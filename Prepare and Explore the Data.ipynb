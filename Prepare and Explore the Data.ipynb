{
 "cells": [
  {
   "cell_type": "markdown",
   "metadata": {},
   "source": [
    "# Task 2: Prepare and Explore the Data"
   ]
  },
  {
   "cell_type": "code",
   "execution_count": 1,
   "metadata": {},
   "outputs": [],
   "source": [
    "import pandas as pd\n",
    "import numpy as np\n",
    "import matplotlib.pyplot as plt\n",
    "from pandas import Series, DataFrame\n",
    "import matplotlib as mpl\n",
    "import seaborn as sns\n",
    "#from Dora import Dora"
   ]
  },
  {
   "cell_type": "markdown",
   "metadata": {},
   "source": [
    "Data original"
   ]
  },
  {
   "cell_type": "code",
   "execution_count": 2,
   "metadata": {},
   "outputs": [
    {
     "data": {
      "text/html": [
       "<div>\n",
       "<style scoped>\n",
       "    .dataframe tbody tr th:only-of-type {\n",
       "        vertical-align: middle;\n",
       "    }\n",
       "\n",
       "    .dataframe tbody tr th {\n",
       "        vertical-align: top;\n",
       "    }\n",
       "\n",
       "    .dataframe thead th {\n",
       "        text-align: right;\n",
       "    }\n",
       "</style>\n",
       "<table border=\"1\" class=\"dataframe\">\n",
       "  <thead>\n",
       "    <tr style=\"text-align: right;\">\n",
       "      <th></th>\n",
       "      <th>ID</th>\n",
       "      <th>LIMIT_BAL</th>\n",
       "      <th>SEX</th>\n",
       "      <th>EDUCATION</th>\n",
       "      <th>MARRIAGE</th>\n",
       "      <th>AGE</th>\n",
       "      <th>PAY_0</th>\n",
       "      <th>PAY_2</th>\n",
       "      <th>PAY_3</th>\n",
       "      <th>PAY_4</th>\n",
       "      <th>...</th>\n",
       "      <th>BILL_AMT4</th>\n",
       "      <th>BILL_AMT5</th>\n",
       "      <th>BILL_AMT6</th>\n",
       "      <th>PAY_AMT1</th>\n",
       "      <th>PAY_AMT2</th>\n",
       "      <th>PAY_AMT3</th>\n",
       "      <th>PAY_AMT4</th>\n",
       "      <th>PAY_AMT5</th>\n",
       "      <th>PAY_AMT6</th>\n",
       "      <th>default payment next month</th>\n",
       "    </tr>\n",
       "  </thead>\n",
       "  <tbody>\n",
       "    <tr>\n",
       "      <td>0</td>\n",
       "      <td>1</td>\n",
       "      <td>20000</td>\n",
       "      <td>2</td>\n",
       "      <td>2</td>\n",
       "      <td>1</td>\n",
       "      <td>24</td>\n",
       "      <td>2</td>\n",
       "      <td>2</td>\n",
       "      <td>-1</td>\n",
       "      <td>-1</td>\n",
       "      <td>...</td>\n",
       "      <td>0</td>\n",
       "      <td>0</td>\n",
       "      <td>0</td>\n",
       "      <td>0</td>\n",
       "      <td>689</td>\n",
       "      <td>0</td>\n",
       "      <td>0</td>\n",
       "      <td>0</td>\n",
       "      <td>0</td>\n",
       "      <td>1</td>\n",
       "    </tr>\n",
       "    <tr>\n",
       "      <td>1</td>\n",
       "      <td>2</td>\n",
       "      <td>120000</td>\n",
       "      <td>2</td>\n",
       "      <td>2</td>\n",
       "      <td>2</td>\n",
       "      <td>26</td>\n",
       "      <td>-1</td>\n",
       "      <td>2</td>\n",
       "      <td>0</td>\n",
       "      <td>0</td>\n",
       "      <td>...</td>\n",
       "      <td>3272</td>\n",
       "      <td>3455</td>\n",
       "      <td>3261</td>\n",
       "      <td>0</td>\n",
       "      <td>1000</td>\n",
       "      <td>1000</td>\n",
       "      <td>1000</td>\n",
       "      <td>0</td>\n",
       "      <td>2000</td>\n",
       "      <td>1</td>\n",
       "    </tr>\n",
       "    <tr>\n",
       "      <td>2</td>\n",
       "      <td>3</td>\n",
       "      <td>90000</td>\n",
       "      <td>2</td>\n",
       "      <td>2</td>\n",
       "      <td>2</td>\n",
       "      <td>34</td>\n",
       "      <td>0</td>\n",
       "      <td>0</td>\n",
       "      <td>0</td>\n",
       "      <td>0</td>\n",
       "      <td>...</td>\n",
       "      <td>14331</td>\n",
       "      <td>14948</td>\n",
       "      <td>15549</td>\n",
       "      <td>1518</td>\n",
       "      <td>1500</td>\n",
       "      <td>1000</td>\n",
       "      <td>1000</td>\n",
       "      <td>1000</td>\n",
       "      <td>5000</td>\n",
       "      <td>0</td>\n",
       "    </tr>\n",
       "    <tr>\n",
       "      <td>3</td>\n",
       "      <td>4</td>\n",
       "      <td>50000</td>\n",
       "      <td>2</td>\n",
       "      <td>2</td>\n",
       "      <td>1</td>\n",
       "      <td>37</td>\n",
       "      <td>0</td>\n",
       "      <td>0</td>\n",
       "      <td>0</td>\n",
       "      <td>0</td>\n",
       "      <td>...</td>\n",
       "      <td>28314</td>\n",
       "      <td>28959</td>\n",
       "      <td>29547</td>\n",
       "      <td>2000</td>\n",
       "      <td>2019</td>\n",
       "      <td>1200</td>\n",
       "      <td>1100</td>\n",
       "      <td>1069</td>\n",
       "      <td>1000</td>\n",
       "      <td>0</td>\n",
       "    </tr>\n",
       "    <tr>\n",
       "      <td>4</td>\n",
       "      <td>5</td>\n",
       "      <td>50000</td>\n",
       "      <td>1</td>\n",
       "      <td>2</td>\n",
       "      <td>1</td>\n",
       "      <td>57</td>\n",
       "      <td>-1</td>\n",
       "      <td>0</td>\n",
       "      <td>-1</td>\n",
       "      <td>0</td>\n",
       "      <td>...</td>\n",
       "      <td>20940</td>\n",
       "      <td>19146</td>\n",
       "      <td>19131</td>\n",
       "      <td>2000</td>\n",
       "      <td>36681</td>\n",
       "      <td>10000</td>\n",
       "      <td>9000</td>\n",
       "      <td>689</td>\n",
       "      <td>679</td>\n",
       "      <td>0</td>\n",
       "    </tr>\n",
       "  </tbody>\n",
       "</table>\n",
       "<p>5 rows × 25 columns</p>\n",
       "</div>"
      ],
      "text/plain": [
       "   ID  LIMIT_BAL  SEX  EDUCATION  MARRIAGE  AGE  PAY_0  PAY_2  PAY_3  PAY_4  \\\n",
       "0   1      20000    2          2         1   24      2      2     -1     -1   \n",
       "1   2     120000    2          2         2   26     -1      2      0      0   \n",
       "2   3      90000    2          2         2   34      0      0      0      0   \n",
       "3   4      50000    2          2         1   37      0      0      0      0   \n",
       "4   5      50000    1          2         1   57     -1      0     -1      0   \n",
       "\n",
       "   ...  BILL_AMT4  BILL_AMT5  BILL_AMT6  PAY_AMT1  PAY_AMT2  PAY_AMT3  \\\n",
       "0  ...          0          0          0         0       689         0   \n",
       "1  ...       3272       3455       3261         0      1000      1000   \n",
       "2  ...      14331      14948      15549      1518      1500      1000   \n",
       "3  ...      28314      28959      29547      2000      2019      1200   \n",
       "4  ...      20940      19146      19131      2000     36681     10000   \n",
       "\n",
       "   PAY_AMT4  PAY_AMT5  PAY_AMT6  default payment next month  \n",
       "0         0         0         0                           1  \n",
       "1      1000         0      2000                           1  \n",
       "2      1000      1000      5000                           0  \n",
       "3      1100      1069      1000                           0  \n",
       "4      9000       689       679                           0  \n",
       "\n",
       "[5 rows x 25 columns]"
      ]
     },
     "execution_count": 2,
     "metadata": {},
     "output_type": "execute_result"
    }
   ],
   "source": [
    "Default = pd.read_csv('default of credit card clients.csv', header =1)\n",
    "Default.head()"
   ]
  },
  {
   "cell_type": "code",
   "execution_count": 3,
   "metadata": {},
   "outputs": [
    {
     "data": {
      "text/html": [
       "<div>\n",
       "<style scoped>\n",
       "    .dataframe tbody tr th:only-of-type {\n",
       "        vertical-align: middle;\n",
       "    }\n",
       "\n",
       "    .dataframe tbody tr th {\n",
       "        vertical-align: top;\n",
       "    }\n",
       "\n",
       "    .dataframe thead th {\n",
       "        text-align: right;\n",
       "    }\n",
       "</style>\n",
       "<table border=\"1\" class=\"dataframe\">\n",
       "  <thead>\n",
       "    <tr style=\"text-align: right;\">\n",
       "      <th></th>\n",
       "      <th>ID</th>\n",
       "      <th>LIMIT_BAL</th>\n",
       "      <th>SEX</th>\n",
       "      <th>EDUCATION</th>\n",
       "      <th>MARRIAGE</th>\n",
       "      <th>AGE</th>\n",
       "      <th>PAY_0</th>\n",
       "      <th>PAY_2</th>\n",
       "      <th>PAY_3</th>\n",
       "      <th>PAY_4</th>\n",
       "      <th>...</th>\n",
       "      <th>BILL_AMT4</th>\n",
       "      <th>BILL_AMT5</th>\n",
       "      <th>BILL_AMT6</th>\n",
       "      <th>PAY_AMT1</th>\n",
       "      <th>PAY_AMT2</th>\n",
       "      <th>PAY_AMT3</th>\n",
       "      <th>PAY_AMT4</th>\n",
       "      <th>PAY_AMT5</th>\n",
       "      <th>PAY_AMT6</th>\n",
       "      <th>default payment next month</th>\n",
       "    </tr>\n",
       "  </thead>\n",
       "  <tbody>\n",
       "    <tr>\n",
       "      <td>count</td>\n",
       "      <td>30000.000000</td>\n",
       "      <td>30000.000000</td>\n",
       "      <td>30000.000000</td>\n",
       "      <td>30000.000000</td>\n",
       "      <td>30000.000000</td>\n",
       "      <td>30000.000000</td>\n",
       "      <td>30000.000000</td>\n",
       "      <td>30000.000000</td>\n",
       "      <td>30000.000000</td>\n",
       "      <td>30000.000000</td>\n",
       "      <td>...</td>\n",
       "      <td>30000.000000</td>\n",
       "      <td>30000.000000</td>\n",
       "      <td>30000.000000</td>\n",
       "      <td>30000.000000</td>\n",
       "      <td>3.000000e+04</td>\n",
       "      <td>30000.00000</td>\n",
       "      <td>30000.000000</td>\n",
       "      <td>30000.000000</td>\n",
       "      <td>30000.000000</td>\n",
       "      <td>30000.000000</td>\n",
       "    </tr>\n",
       "    <tr>\n",
       "      <td>mean</td>\n",
       "      <td>15000.500000</td>\n",
       "      <td>167484.322667</td>\n",
       "      <td>1.603733</td>\n",
       "      <td>1.853133</td>\n",
       "      <td>1.551867</td>\n",
       "      <td>35.485500</td>\n",
       "      <td>-0.016700</td>\n",
       "      <td>-0.133767</td>\n",
       "      <td>-0.166200</td>\n",
       "      <td>-0.220667</td>\n",
       "      <td>...</td>\n",
       "      <td>43262.948967</td>\n",
       "      <td>40311.400967</td>\n",
       "      <td>38871.760400</td>\n",
       "      <td>5663.580500</td>\n",
       "      <td>5.921163e+03</td>\n",
       "      <td>5225.68150</td>\n",
       "      <td>4826.076867</td>\n",
       "      <td>4799.387633</td>\n",
       "      <td>5215.502567</td>\n",
       "      <td>0.221200</td>\n",
       "    </tr>\n",
       "    <tr>\n",
       "      <td>std</td>\n",
       "      <td>8660.398374</td>\n",
       "      <td>129747.661567</td>\n",
       "      <td>0.489129</td>\n",
       "      <td>0.790349</td>\n",
       "      <td>0.521970</td>\n",
       "      <td>9.217904</td>\n",
       "      <td>1.123802</td>\n",
       "      <td>1.197186</td>\n",
       "      <td>1.196868</td>\n",
       "      <td>1.169139</td>\n",
       "      <td>...</td>\n",
       "      <td>64332.856134</td>\n",
       "      <td>60797.155770</td>\n",
       "      <td>59554.107537</td>\n",
       "      <td>16563.280354</td>\n",
       "      <td>2.304087e+04</td>\n",
       "      <td>17606.96147</td>\n",
       "      <td>15666.159744</td>\n",
       "      <td>15278.305679</td>\n",
       "      <td>17777.465775</td>\n",
       "      <td>0.415062</td>\n",
       "    </tr>\n",
       "    <tr>\n",
       "      <td>min</td>\n",
       "      <td>1.000000</td>\n",
       "      <td>10000.000000</td>\n",
       "      <td>1.000000</td>\n",
       "      <td>0.000000</td>\n",
       "      <td>0.000000</td>\n",
       "      <td>21.000000</td>\n",
       "      <td>-2.000000</td>\n",
       "      <td>-2.000000</td>\n",
       "      <td>-2.000000</td>\n",
       "      <td>-2.000000</td>\n",
       "      <td>...</td>\n",
       "      <td>-170000.000000</td>\n",
       "      <td>-81334.000000</td>\n",
       "      <td>-339603.000000</td>\n",
       "      <td>0.000000</td>\n",
       "      <td>0.000000e+00</td>\n",
       "      <td>0.00000</td>\n",
       "      <td>0.000000</td>\n",
       "      <td>0.000000</td>\n",
       "      <td>0.000000</td>\n",
       "      <td>0.000000</td>\n",
       "    </tr>\n",
       "    <tr>\n",
       "      <td>25%</td>\n",
       "      <td>7500.750000</td>\n",
       "      <td>50000.000000</td>\n",
       "      <td>1.000000</td>\n",
       "      <td>1.000000</td>\n",
       "      <td>1.000000</td>\n",
       "      <td>28.000000</td>\n",
       "      <td>-1.000000</td>\n",
       "      <td>-1.000000</td>\n",
       "      <td>-1.000000</td>\n",
       "      <td>-1.000000</td>\n",
       "      <td>...</td>\n",
       "      <td>2326.750000</td>\n",
       "      <td>1763.000000</td>\n",
       "      <td>1256.000000</td>\n",
       "      <td>1000.000000</td>\n",
       "      <td>8.330000e+02</td>\n",
       "      <td>390.00000</td>\n",
       "      <td>296.000000</td>\n",
       "      <td>252.500000</td>\n",
       "      <td>117.750000</td>\n",
       "      <td>0.000000</td>\n",
       "    </tr>\n",
       "    <tr>\n",
       "      <td>50%</td>\n",
       "      <td>15000.500000</td>\n",
       "      <td>140000.000000</td>\n",
       "      <td>2.000000</td>\n",
       "      <td>2.000000</td>\n",
       "      <td>2.000000</td>\n",
       "      <td>34.000000</td>\n",
       "      <td>0.000000</td>\n",
       "      <td>0.000000</td>\n",
       "      <td>0.000000</td>\n",
       "      <td>0.000000</td>\n",
       "      <td>...</td>\n",
       "      <td>19052.000000</td>\n",
       "      <td>18104.500000</td>\n",
       "      <td>17071.000000</td>\n",
       "      <td>2100.000000</td>\n",
       "      <td>2.009000e+03</td>\n",
       "      <td>1800.00000</td>\n",
       "      <td>1500.000000</td>\n",
       "      <td>1500.000000</td>\n",
       "      <td>1500.000000</td>\n",
       "      <td>0.000000</td>\n",
       "    </tr>\n",
       "    <tr>\n",
       "      <td>75%</td>\n",
       "      <td>22500.250000</td>\n",
       "      <td>240000.000000</td>\n",
       "      <td>2.000000</td>\n",
       "      <td>2.000000</td>\n",
       "      <td>2.000000</td>\n",
       "      <td>41.000000</td>\n",
       "      <td>0.000000</td>\n",
       "      <td>0.000000</td>\n",
       "      <td>0.000000</td>\n",
       "      <td>0.000000</td>\n",
       "      <td>...</td>\n",
       "      <td>54506.000000</td>\n",
       "      <td>50190.500000</td>\n",
       "      <td>49198.250000</td>\n",
       "      <td>5006.000000</td>\n",
       "      <td>5.000000e+03</td>\n",
       "      <td>4505.00000</td>\n",
       "      <td>4013.250000</td>\n",
       "      <td>4031.500000</td>\n",
       "      <td>4000.000000</td>\n",
       "      <td>0.000000</td>\n",
       "    </tr>\n",
       "    <tr>\n",
       "      <td>max</td>\n",
       "      <td>30000.000000</td>\n",
       "      <td>1000000.000000</td>\n",
       "      <td>2.000000</td>\n",
       "      <td>6.000000</td>\n",
       "      <td>3.000000</td>\n",
       "      <td>79.000000</td>\n",
       "      <td>8.000000</td>\n",
       "      <td>8.000000</td>\n",
       "      <td>8.000000</td>\n",
       "      <td>8.000000</td>\n",
       "      <td>...</td>\n",
       "      <td>891586.000000</td>\n",
       "      <td>927171.000000</td>\n",
       "      <td>961664.000000</td>\n",
       "      <td>873552.000000</td>\n",
       "      <td>1.684259e+06</td>\n",
       "      <td>896040.00000</td>\n",
       "      <td>621000.000000</td>\n",
       "      <td>426529.000000</td>\n",
       "      <td>528666.000000</td>\n",
       "      <td>1.000000</td>\n",
       "    </tr>\n",
       "  </tbody>\n",
       "</table>\n",
       "<p>8 rows × 25 columns</p>\n",
       "</div>"
      ],
      "text/plain": [
       "                 ID       LIMIT_BAL           SEX     EDUCATION      MARRIAGE  \\\n",
       "count  30000.000000    30000.000000  30000.000000  30000.000000  30000.000000   \n",
       "mean   15000.500000   167484.322667      1.603733      1.853133      1.551867   \n",
       "std     8660.398374   129747.661567      0.489129      0.790349      0.521970   \n",
       "min        1.000000    10000.000000      1.000000      0.000000      0.000000   \n",
       "25%     7500.750000    50000.000000      1.000000      1.000000      1.000000   \n",
       "50%    15000.500000   140000.000000      2.000000      2.000000      2.000000   \n",
       "75%    22500.250000   240000.000000      2.000000      2.000000      2.000000   \n",
       "max    30000.000000  1000000.000000      2.000000      6.000000      3.000000   \n",
       "\n",
       "                AGE         PAY_0         PAY_2         PAY_3         PAY_4  \\\n",
       "count  30000.000000  30000.000000  30000.000000  30000.000000  30000.000000   \n",
       "mean      35.485500     -0.016700     -0.133767     -0.166200     -0.220667   \n",
       "std        9.217904      1.123802      1.197186      1.196868      1.169139   \n",
       "min       21.000000     -2.000000     -2.000000     -2.000000     -2.000000   \n",
       "25%       28.000000     -1.000000     -1.000000     -1.000000     -1.000000   \n",
       "50%       34.000000      0.000000      0.000000      0.000000      0.000000   \n",
       "75%       41.000000      0.000000      0.000000      0.000000      0.000000   \n",
       "max       79.000000      8.000000      8.000000      8.000000      8.000000   \n",
       "\n",
       "       ...      BILL_AMT4      BILL_AMT5      BILL_AMT6       PAY_AMT1  \\\n",
       "count  ...   30000.000000   30000.000000   30000.000000   30000.000000   \n",
       "mean   ...   43262.948967   40311.400967   38871.760400    5663.580500   \n",
       "std    ...   64332.856134   60797.155770   59554.107537   16563.280354   \n",
       "min    ... -170000.000000  -81334.000000 -339603.000000       0.000000   \n",
       "25%    ...    2326.750000    1763.000000    1256.000000    1000.000000   \n",
       "50%    ...   19052.000000   18104.500000   17071.000000    2100.000000   \n",
       "75%    ...   54506.000000   50190.500000   49198.250000    5006.000000   \n",
       "max    ...  891586.000000  927171.000000  961664.000000  873552.000000   \n",
       "\n",
       "           PAY_AMT2      PAY_AMT3       PAY_AMT4       PAY_AMT5  \\\n",
       "count  3.000000e+04   30000.00000   30000.000000   30000.000000   \n",
       "mean   5.921163e+03    5225.68150    4826.076867    4799.387633   \n",
       "std    2.304087e+04   17606.96147   15666.159744   15278.305679   \n",
       "min    0.000000e+00       0.00000       0.000000       0.000000   \n",
       "25%    8.330000e+02     390.00000     296.000000     252.500000   \n",
       "50%    2.009000e+03    1800.00000    1500.000000    1500.000000   \n",
       "75%    5.000000e+03    4505.00000    4013.250000    4031.500000   \n",
       "max    1.684259e+06  896040.00000  621000.000000  426529.000000   \n",
       "\n",
       "            PAY_AMT6  default payment next month  \n",
       "count   30000.000000                30000.000000  \n",
       "mean     5215.502567                    0.221200  \n",
       "std     17777.465775                    0.415062  \n",
       "min         0.000000                    0.000000  \n",
       "25%       117.750000                    0.000000  \n",
       "50%      1500.000000                    0.000000  \n",
       "75%      4000.000000                    0.000000  \n",
       "max    528666.000000                    1.000000  \n",
       "\n",
       "[8 rows x 25 columns]"
      ]
     },
     "execution_count": 3,
     "metadata": {},
     "output_type": "execute_result"
    }
   ],
   "source": [
    "Default.describe()"
   ]
  },
  {
   "cell_type": "code",
   "execution_count": 4,
   "metadata": {},
   "outputs": [
    {
     "name": "stdout",
     "output_type": "stream",
     "text": [
      "<class 'pandas.core.frame.DataFrame'>\n",
      "RangeIndex: 30000 entries, 0 to 29999\n",
      "Data columns (total 25 columns):\n",
      "ID                            30000 non-null int64\n",
      "LIMIT_BAL                     30000 non-null int64\n",
      "SEX                           30000 non-null int64\n",
      "EDUCATION                     30000 non-null int64\n",
      "MARRIAGE                      30000 non-null int64\n",
      "AGE                           30000 non-null int64\n",
      "PAY_0                         30000 non-null int64\n",
      "PAY_2                         30000 non-null int64\n",
      "PAY_3                         30000 non-null int64\n",
      "PAY_4                         30000 non-null int64\n",
      "PAY_5                         30000 non-null int64\n",
      "PAY_6                         30000 non-null int64\n",
      "BILL_AMT1                     30000 non-null int64\n",
      "BILL_AMT2                     30000 non-null int64\n",
      "BILL_AMT3                     30000 non-null int64\n",
      "BILL_AMT4                     30000 non-null int64\n",
      "BILL_AMT5                     30000 non-null int64\n",
      "BILL_AMT6                     30000 non-null int64\n",
      "PAY_AMT1                      30000 non-null int64\n",
      "PAY_AMT2                      30000 non-null int64\n",
      "PAY_AMT3                      30000 non-null int64\n",
      "PAY_AMT4                      30000 non-null int64\n",
      "PAY_AMT5                      30000 non-null int64\n",
      "PAY_AMT6                      30000 non-null int64\n",
      "default payment next month    30000 non-null int64\n",
      "dtypes: int64(25)\n",
      "memory usage: 5.7 MB\n"
     ]
    }
   ],
   "source": [
    "Default.info()"
   ]
  },
  {
   "cell_type": "markdown",
   "metadata": {},
   "source": [
    "# notas\n",
    "\n",
    "1. Data cleaning\n",
    "2. Data transformation\n",
    "    How to deal with missing values?\n",
    "3. Data reduction\n",
    "4. Data discretization\n",
    "5. Text cleaning (if needed)"
   ]
  },
  {
   "cell_type": "markdown",
   "metadata": {},
   "source": [
    "### Data Cleaning and Data transformation\n",
    "Dentro del data cleaning previamente realizado esta: \n",
    "Cambiar a string los valores de SEX, Education, Marriage. Tambien se convertió la moneda de NT a USD en todos los campos que tenian referencia. Se ordenaron las columnas ya que el orden era de sep a abril, para que sea de Abril a Sep, tambien se agregaron titulos mas descriptivos."
   ]
  },
  {
   "cell_type": "code",
   "execution_count": 5,
   "metadata": {},
   "outputs": [
    {
     "data": {
      "text/html": [
       "<div>\n",
       "<style scoped>\n",
       "    .dataframe tbody tr th:only-of-type {\n",
       "        vertical-align: middle;\n",
       "    }\n",
       "\n",
       "    .dataframe tbody tr th {\n",
       "        vertical-align: top;\n",
       "    }\n",
       "\n",
       "    .dataframe thead th {\n",
       "        text-align: right;\n",
       "    }\n",
       "</style>\n",
       "<table border=\"1\" class=\"dataframe\">\n",
       "  <thead>\n",
       "    <tr style=\"text-align: right;\">\n",
       "      <th></th>\n",
       "      <th>LIMIT_BAL</th>\n",
       "      <th>SEX</th>\n",
       "      <th>EDUCATION</th>\n",
       "      <th>MARRIAGE</th>\n",
       "      <th>AGE</th>\n",
       "      <th>PAY_APRIL</th>\n",
       "      <th>PAY_MAY</th>\n",
       "      <th>PAY_JUNE</th>\n",
       "      <th>PAY_JULY</th>\n",
       "      <th>PAY_AUG</th>\n",
       "      <th>PAY_SEP</th>\n",
       "      <th>BILL_AMTAPRIL</th>\n",
       "      <th>BILL_AMTMAY</th>\n",
       "      <th>BILL_AMTJUNE</th>\n",
       "      <th>BILL_AMTJULY</th>\n",
       "      <th>BILL_AMTAUG</th>\n",
       "      <th>BILL_AMTSEP</th>\n",
       "      <th>PAY_AMTAPRIL</th>\n",
       "      <th>PAY_AMTMAY</th>\n",
       "      <th>PAY_AMTJUNE</th>\n",
       "      <th>PAY_AMTJULY</th>\n",
       "      <th>PAY_AMTAUG</th>\n",
       "      <th>PAY_AMTSEP</th>\n",
       "      <th>DEFAULT_PAY_NEXTM</th>\n",
       "    </tr>\n",
       "  </thead>\n",
       "  <tbody>\n",
       "    <tr>\n",
       "      <td>0</td>\n",
       "      <td>666</td>\n",
       "      <td>Female</td>\n",
       "      <td>University</td>\n",
       "      <td>Married</td>\n",
       "      <td>24</td>\n",
       "      <td>-2</td>\n",
       "      <td>-2</td>\n",
       "      <td>-1</td>\n",
       "      <td>-1</td>\n",
       "      <td>2</td>\n",
       "      <td>2</td>\n",
       "      <td>0</td>\n",
       "      <td>0</td>\n",
       "      <td>0</td>\n",
       "      <td>23</td>\n",
       "      <td>103</td>\n",
       "      <td>130</td>\n",
       "      <td>0</td>\n",
       "      <td>0</td>\n",
       "      <td>0</td>\n",
       "      <td>0</td>\n",
       "      <td>23</td>\n",
       "      <td>0</td>\n",
       "      <td>1</td>\n",
       "    </tr>\n",
       "    <tr>\n",
       "      <td>1</td>\n",
       "      <td>3996</td>\n",
       "      <td>Female</td>\n",
       "      <td>University</td>\n",
       "      <td>Single</td>\n",
       "      <td>26</td>\n",
       "      <td>2</td>\n",
       "      <td>0</td>\n",
       "      <td>0</td>\n",
       "      <td>0</td>\n",
       "      <td>2</td>\n",
       "      <td>-1</td>\n",
       "      <td>109</td>\n",
       "      <td>115</td>\n",
       "      <td>109</td>\n",
       "      <td>89</td>\n",
       "      <td>57</td>\n",
       "      <td>89</td>\n",
       "      <td>67</td>\n",
       "      <td>0</td>\n",
       "      <td>33</td>\n",
       "      <td>33</td>\n",
       "      <td>33</td>\n",
       "      <td>0</td>\n",
       "      <td>1</td>\n",
       "    </tr>\n",
       "    <tr>\n",
       "      <td>2</td>\n",
       "      <td>2997</td>\n",
       "      <td>Female</td>\n",
       "      <td>University</td>\n",
       "      <td>Single</td>\n",
       "      <td>34</td>\n",
       "      <td>0</td>\n",
       "      <td>0</td>\n",
       "      <td>0</td>\n",
       "      <td>0</td>\n",
       "      <td>0</td>\n",
       "      <td>0</td>\n",
       "      <td>518</td>\n",
       "      <td>498</td>\n",
       "      <td>477</td>\n",
       "      <td>452</td>\n",
       "      <td>467</td>\n",
       "      <td>974</td>\n",
       "      <td>167</td>\n",
       "      <td>33</td>\n",
       "      <td>33</td>\n",
       "      <td>33</td>\n",
       "      <td>50</td>\n",
       "      <td>51</td>\n",
       "      <td>0</td>\n",
       "    </tr>\n",
       "    <tr>\n",
       "      <td>3</td>\n",
       "      <td>1665</td>\n",
       "      <td>Female</td>\n",
       "      <td>University</td>\n",
       "      <td>Married</td>\n",
       "      <td>37</td>\n",
       "      <td>0</td>\n",
       "      <td>0</td>\n",
       "      <td>0</td>\n",
       "      <td>0</td>\n",
       "      <td>0</td>\n",
       "      <td>0</td>\n",
       "      <td>984</td>\n",
       "      <td>964</td>\n",
       "      <td>943</td>\n",
       "      <td>1641</td>\n",
       "      <td>1606</td>\n",
       "      <td>1565</td>\n",
       "      <td>33</td>\n",
       "      <td>36</td>\n",
       "      <td>37</td>\n",
       "      <td>40</td>\n",
       "      <td>67</td>\n",
       "      <td>67</td>\n",
       "      <td>0</td>\n",
       "    </tr>\n",
       "    <tr>\n",
       "      <td>4</td>\n",
       "      <td>1665</td>\n",
       "      <td>Male</td>\n",
       "      <td>University</td>\n",
       "      <td>Married</td>\n",
       "      <td>57</td>\n",
       "      <td>0</td>\n",
       "      <td>0</td>\n",
       "      <td>0</td>\n",
       "      <td>-1</td>\n",
       "      <td>0</td>\n",
       "      <td>-1</td>\n",
       "      <td>637</td>\n",
       "      <td>638</td>\n",
       "      <td>697</td>\n",
       "      <td>1193</td>\n",
       "      <td>189</td>\n",
       "      <td>287</td>\n",
       "      <td>23</td>\n",
       "      <td>23</td>\n",
       "      <td>300</td>\n",
       "      <td>333</td>\n",
       "      <td>1222</td>\n",
       "      <td>67</td>\n",
       "      <td>0</td>\n",
       "    </tr>\n",
       "  </tbody>\n",
       "</table>\n",
       "</div>"
      ],
      "text/plain": [
       "   LIMIT_BAL     SEX   EDUCATION MARRIAGE  AGE  PAY_APRIL  PAY_MAY  PAY_JUNE  \\\n",
       "0        666  Female  University  Married   24         -2       -2        -1   \n",
       "1       3996  Female  University   Single   26          2        0         0   \n",
       "2       2997  Female  University   Single   34          0        0         0   \n",
       "3       1665  Female  University  Married   37          0        0         0   \n",
       "4       1665    Male  University  Married   57          0        0         0   \n",
       "\n",
       "   PAY_JULY  PAY_AUG  PAY_SEP  BILL_AMTAPRIL  BILL_AMTMAY  BILL_AMTJUNE  \\\n",
       "0        -1        2        2              0            0             0   \n",
       "1         0        2       -1            109          115           109   \n",
       "2         0        0        0            518          498           477   \n",
       "3         0        0        0            984          964           943   \n",
       "4        -1        0       -1            637          638           697   \n",
       "\n",
       "   BILL_AMTJULY  BILL_AMTAUG  BILL_AMTSEP  PAY_AMTAPRIL  PAY_AMTMAY  \\\n",
       "0            23          103          130             0           0   \n",
       "1            89           57           89            67           0   \n",
       "2           452          467          974           167          33   \n",
       "3          1641         1606         1565            33          36   \n",
       "4          1193          189          287            23          23   \n",
       "\n",
       "   PAY_AMTJUNE  PAY_AMTJULY  PAY_AMTAUG  PAY_AMTSEP  DEFAULT_PAY_NEXTM  \n",
       "0            0            0          23           0                  1  \n",
       "1           33           33          33           0                  1  \n",
       "2           33           33          50          51                  0  \n",
       "3           37           40          67          67                  0  \n",
       "4          300          333        1222          67                  0  "
      ]
     },
     "execution_count": 5,
     "metadata": {},
     "output_type": "execute_result"
    }
   ],
   "source": [
    "##Dataset revisado, cambio de NT a USD, y el orden de los meses\n",
    "credit = pd.read_csv('DPAYR.csv', header =1)\n",
    "pd.set_option('display.max_columns', None)\n",
    "credit.head()"
   ]
  },
  {
   "cell_type": "code",
   "execution_count": 6,
   "metadata": {},
   "outputs": [
    {
     "data": {
      "text/html": [
       "<div>\n",
       "<style scoped>\n",
       "    .dataframe tbody tr th:only-of-type {\n",
       "        vertical-align: middle;\n",
       "    }\n",
       "\n",
       "    .dataframe tbody tr th {\n",
       "        vertical-align: top;\n",
       "    }\n",
       "\n",
       "    .dataframe thead th {\n",
       "        text-align: right;\n",
       "    }\n",
       "</style>\n",
       "<table border=\"1\" class=\"dataframe\">\n",
       "  <thead>\n",
       "    <tr style=\"text-align: right;\">\n",
       "      <th></th>\n",
       "      <th>LIMIT_BAL</th>\n",
       "      <th>AGE</th>\n",
       "      <th>PAY_APRIL</th>\n",
       "      <th>PAY_MAY</th>\n",
       "      <th>PAY_JUNE</th>\n",
       "      <th>PAY_JULY</th>\n",
       "      <th>PAY_AUG</th>\n",
       "      <th>PAY_SEP</th>\n",
       "      <th>BILL_AMTAPRIL</th>\n",
       "      <th>BILL_AMTMAY</th>\n",
       "      <th>BILL_AMTJUNE</th>\n",
       "      <th>BILL_AMTJULY</th>\n",
       "      <th>BILL_AMTAUG</th>\n",
       "      <th>BILL_AMTSEP</th>\n",
       "      <th>PAY_AMTAPRIL</th>\n",
       "      <th>PAY_AMTMAY</th>\n",
       "      <th>PAY_AMTJUNE</th>\n",
       "      <th>PAY_AMTJULY</th>\n",
       "      <th>PAY_AMTAUG</th>\n",
       "      <th>PAY_AMTSEP</th>\n",
       "      <th>DEFAULT_PAY_NEXTM</th>\n",
       "    </tr>\n",
       "  </thead>\n",
       "  <tbody>\n",
       "    <tr>\n",
       "      <td>count</td>\n",
       "      <td>30000.00000</td>\n",
       "      <td>30000.000000</td>\n",
       "      <td>30000.000000</td>\n",
       "      <td>30000.000000</td>\n",
       "      <td>30000.000000</td>\n",
       "      <td>30000.000000</td>\n",
       "      <td>30000.000000</td>\n",
       "      <td>30000.000000</td>\n",
       "      <td>30000.000000</td>\n",
       "      <td>30000.000000</td>\n",
       "      <td>30000.000000</td>\n",
       "      <td>30000.000000</td>\n",
       "      <td>30000.000000</td>\n",
       "      <td>30000.000000</td>\n",
       "      <td>30000.000000</td>\n",
       "      <td>30000.000000</td>\n",
       "      <td>30000.000000</td>\n",
       "      <td>30000.000000</td>\n",
       "      <td>30000.000000</td>\n",
       "      <td>30000.000000</td>\n",
       "      <td>30000.000000</td>\n",
       "    </tr>\n",
       "    <tr>\n",
       "      <td>mean</td>\n",
       "      <td>5577.26900</td>\n",
       "      <td>35.485500</td>\n",
       "      <td>-0.291100</td>\n",
       "      <td>-0.266200</td>\n",
       "      <td>-0.220667</td>\n",
       "      <td>-0.166200</td>\n",
       "      <td>-0.133767</td>\n",
       "      <td>-0.016700</td>\n",
       "      <td>1294.475600</td>\n",
       "      <td>1342.416167</td>\n",
       "      <td>1440.707533</td>\n",
       "      <td>1565.592300</td>\n",
       "      <td>1637.719067</td>\n",
       "      <td>1705.796533</td>\n",
       "      <td>173.708567</td>\n",
       "      <td>159.853500</td>\n",
       "      <td>160.738867</td>\n",
       "      <td>174.048133</td>\n",
       "      <td>197.208367</td>\n",
       "      <td>188.633367</td>\n",
       "      <td>0.221200</td>\n",
       "    </tr>\n",
       "    <tr>\n",
       "      <td>std</td>\n",
       "      <td>4320.70549</td>\n",
       "      <td>9.217904</td>\n",
       "      <td>1.149988</td>\n",
       "      <td>1.133187</td>\n",
       "      <td>1.169139</td>\n",
       "      <td>1.196868</td>\n",
       "      <td>1.197186</td>\n",
       "      <td>1.123802</td>\n",
       "      <td>1983.213772</td>\n",
       "      <td>2024.609958</td>\n",
       "      <td>2142.352378</td>\n",
       "      <td>2309.408736</td>\n",
       "      <td>2370.163696</td>\n",
       "      <td>2452.154591</td>\n",
       "      <td>592.007600</td>\n",
       "      <td>508.782964</td>\n",
       "      <td>521.698187</td>\n",
       "      <td>586.331148</td>\n",
       "      <td>767.286817</td>\n",
       "      <td>551.567368</td>\n",
       "      <td>0.415062</td>\n",
       "    </tr>\n",
       "    <tr>\n",
       "      <td>min</td>\n",
       "      <td>333.00000</td>\n",
       "      <td>21.000000</td>\n",
       "      <td>-2.000000</td>\n",
       "      <td>-2.000000</td>\n",
       "      <td>-2.000000</td>\n",
       "      <td>-2.000000</td>\n",
       "      <td>-2.000000</td>\n",
       "      <td>-2.000000</td>\n",
       "      <td>-11309.000000</td>\n",
       "      <td>-2709.000000</td>\n",
       "      <td>-5661.000000</td>\n",
       "      <td>-5237.000000</td>\n",
       "      <td>-2324.000000</td>\n",
       "      <td>-5514.000000</td>\n",
       "      <td>0.000000</td>\n",
       "      <td>0.000000</td>\n",
       "      <td>0.000000</td>\n",
       "      <td>0.000000</td>\n",
       "      <td>0.000000</td>\n",
       "      <td>0.000000</td>\n",
       "      <td>0.000000</td>\n",
       "    </tr>\n",
       "    <tr>\n",
       "      <td>25%</td>\n",
       "      <td>1665.00000</td>\n",
       "      <td>28.000000</td>\n",
       "      <td>-1.000000</td>\n",
       "      <td>-1.000000</td>\n",
       "      <td>-1.000000</td>\n",
       "      <td>-1.000000</td>\n",
       "      <td>-1.000000</td>\n",
       "      <td>-1.000000</td>\n",
       "      <td>42.000000</td>\n",
       "      <td>59.000000</td>\n",
       "      <td>77.000000</td>\n",
       "      <td>89.000000</td>\n",
       "      <td>99.000000</td>\n",
       "      <td>118.750000</td>\n",
       "      <td>4.000000</td>\n",
       "      <td>8.000000</td>\n",
       "      <td>10.000000</td>\n",
       "      <td>13.000000</td>\n",
       "      <td>28.000000</td>\n",
       "      <td>33.000000</td>\n",
       "      <td>0.000000</td>\n",
       "    </tr>\n",
       "    <tr>\n",
       "      <td>50%</td>\n",
       "      <td>4662.00000</td>\n",
       "      <td>34.000000</td>\n",
       "      <td>0.000000</td>\n",
       "      <td>0.000000</td>\n",
       "      <td>0.000000</td>\n",
       "      <td>0.000000</td>\n",
       "      <td>0.000000</td>\n",
       "      <td>0.000000</td>\n",
       "      <td>568.500000</td>\n",
       "      <td>603.000000</td>\n",
       "      <td>634.000000</td>\n",
       "      <td>669.000000</td>\n",
       "      <td>706.000000</td>\n",
       "      <td>745.000000</td>\n",
       "      <td>50.000000</td>\n",
       "      <td>50.000000</td>\n",
       "      <td>50.000000</td>\n",
       "      <td>60.000000</td>\n",
       "      <td>67.000000</td>\n",
       "      <td>70.000000</td>\n",
       "      <td>0.000000</td>\n",
       "    </tr>\n",
       "    <tr>\n",
       "      <td>75%</td>\n",
       "      <td>7992.00000</td>\n",
       "      <td>41.000000</td>\n",
       "      <td>0.000000</td>\n",
       "      <td>0.000000</td>\n",
       "      <td>0.000000</td>\n",
       "      <td>0.000000</td>\n",
       "      <td>0.000000</td>\n",
       "      <td>0.000000</td>\n",
       "      <td>1638.250000</td>\n",
       "      <td>1671.250000</td>\n",
       "      <td>1815.000000</td>\n",
       "      <td>2004.000000</td>\n",
       "      <td>2131.250000</td>\n",
       "      <td>2234.000000</td>\n",
       "      <td>133.000000</td>\n",
       "      <td>134.000000</td>\n",
       "      <td>134.000000</td>\n",
       "      <td>150.000000</td>\n",
       "      <td>167.000000</td>\n",
       "      <td>167.000000</td>\n",
       "      <td>0.000000</td>\n",
       "    </tr>\n",
       "    <tr>\n",
       "      <td>max</td>\n",
       "      <td>33301.00000</td>\n",
       "      <td>79.000000</td>\n",
       "      <td>8.000000</td>\n",
       "      <td>8.000000</td>\n",
       "      <td>8.000000</td>\n",
       "      <td>8.000000</td>\n",
       "      <td>8.000000</td>\n",
       "      <td>8.000000</td>\n",
       "      <td>32024.000000</td>\n",
       "      <td>30876.000000</td>\n",
       "      <td>29691.000000</td>\n",
       "      <td>55416.000000</td>\n",
       "      <td>32766.000000</td>\n",
       "      <td>32119.000000</td>\n",
       "      <td>17605.000000</td>\n",
       "      <td>14204.000000</td>\n",
       "      <td>20680.000000</td>\n",
       "      <td>29839.000000</td>\n",
       "      <td>56088.000000</td>\n",
       "      <td>29090.000000</td>\n",
       "      <td>1.000000</td>\n",
       "    </tr>\n",
       "  </tbody>\n",
       "</table>\n",
       "</div>"
      ],
      "text/plain": [
       "         LIMIT_BAL           AGE     PAY_APRIL       PAY_MAY      PAY_JUNE  \\\n",
       "count  30000.00000  30000.000000  30000.000000  30000.000000  30000.000000   \n",
       "mean    5577.26900     35.485500     -0.291100     -0.266200     -0.220667   \n",
       "std     4320.70549      9.217904      1.149988      1.133187      1.169139   \n",
       "min      333.00000     21.000000     -2.000000     -2.000000     -2.000000   \n",
       "25%     1665.00000     28.000000     -1.000000     -1.000000     -1.000000   \n",
       "50%     4662.00000     34.000000      0.000000      0.000000      0.000000   \n",
       "75%     7992.00000     41.000000      0.000000      0.000000      0.000000   \n",
       "max    33301.00000     79.000000      8.000000      8.000000      8.000000   \n",
       "\n",
       "           PAY_JULY       PAY_AUG       PAY_SEP  BILL_AMTAPRIL   BILL_AMTMAY  \\\n",
       "count  30000.000000  30000.000000  30000.000000   30000.000000  30000.000000   \n",
       "mean      -0.166200     -0.133767     -0.016700    1294.475600   1342.416167   \n",
       "std        1.196868      1.197186      1.123802    1983.213772   2024.609958   \n",
       "min       -2.000000     -2.000000     -2.000000  -11309.000000  -2709.000000   \n",
       "25%       -1.000000     -1.000000     -1.000000      42.000000     59.000000   \n",
       "50%        0.000000      0.000000      0.000000     568.500000    603.000000   \n",
       "75%        0.000000      0.000000      0.000000    1638.250000   1671.250000   \n",
       "max        8.000000      8.000000      8.000000   32024.000000  30876.000000   \n",
       "\n",
       "       BILL_AMTJUNE  BILL_AMTJULY   BILL_AMTAUG   BILL_AMTSEP  PAY_AMTAPRIL  \\\n",
       "count  30000.000000  30000.000000  30000.000000  30000.000000  30000.000000   \n",
       "mean    1440.707533   1565.592300   1637.719067   1705.796533    173.708567   \n",
       "std     2142.352378   2309.408736   2370.163696   2452.154591    592.007600   \n",
       "min    -5661.000000  -5237.000000  -2324.000000  -5514.000000      0.000000   \n",
       "25%       77.000000     89.000000     99.000000    118.750000      4.000000   \n",
       "50%      634.000000    669.000000    706.000000    745.000000     50.000000   \n",
       "75%     1815.000000   2004.000000   2131.250000   2234.000000    133.000000   \n",
       "max    29691.000000  55416.000000  32766.000000  32119.000000  17605.000000   \n",
       "\n",
       "         PAY_AMTMAY   PAY_AMTJUNE   PAY_AMTJULY    PAY_AMTAUG    PAY_AMTSEP  \\\n",
       "count  30000.000000  30000.000000  30000.000000  30000.000000  30000.000000   \n",
       "mean     159.853500    160.738867    174.048133    197.208367    188.633367   \n",
       "std      508.782964    521.698187    586.331148    767.286817    551.567368   \n",
       "min        0.000000      0.000000      0.000000      0.000000      0.000000   \n",
       "25%        8.000000     10.000000     13.000000     28.000000     33.000000   \n",
       "50%       50.000000     50.000000     60.000000     67.000000     70.000000   \n",
       "75%      134.000000    134.000000    150.000000    167.000000    167.000000   \n",
       "max    14204.000000  20680.000000  29839.000000  56088.000000  29090.000000   \n",
       "\n",
       "       DEFAULT_PAY_NEXTM  \n",
       "count       30000.000000  \n",
       "mean            0.221200  \n",
       "std             0.415062  \n",
       "min             0.000000  \n",
       "25%             0.000000  \n",
       "50%             0.000000  \n",
       "75%             0.000000  \n",
       "max             1.000000  "
      ]
     },
     "execution_count": 6,
     "metadata": {},
     "output_type": "execute_result"
    }
   ],
   "source": [
    "#Resumen del dataset\n",
    "credit.describe()   "
   ]
  },
  {
   "cell_type": "markdown",
   "metadata": {},
   "source": [
    "## What inferences can you make about the data after reviewing this describe() results?\n",
    "*\n",
    "*"
   ]
  },
  {
   "cell_type": "code",
   "execution_count": 7,
   "metadata": {},
   "outputs": [
    {
     "name": "stdout",
     "output_type": "stream",
     "text": [
      "<class 'pandas.core.frame.DataFrame'>\n",
      "RangeIndex: 30000 entries, 0 to 29999\n",
      "Data columns (total 24 columns):\n",
      "LIMIT_BAL            30000 non-null int64\n",
      "SEX                  30000 non-null object\n",
      "EDUCATION            30000 non-null object\n",
      "MARRIAGE             30000 non-null object\n",
      "AGE                  30000 non-null int64\n",
      "PAY_APRIL            30000 non-null int64\n",
      "PAY_MAY              30000 non-null int64\n",
      "PAY_JUNE             30000 non-null int64\n",
      "PAY_JULY             30000 non-null int64\n",
      "PAY_AUG              30000 non-null int64\n",
      "PAY_SEP              30000 non-null int64\n",
      "BILL_AMTAPRIL        30000 non-null int64\n",
      "BILL_AMTMAY          30000 non-null int64\n",
      "BILL_AMTJUNE         30000 non-null int64\n",
      "BILL_AMTJULY         30000 non-null int64\n",
      "BILL_AMTAUG          30000 non-null int64\n",
      "BILL_AMTSEP          30000 non-null int64\n",
      "PAY_AMTAPRIL         30000 non-null int64\n",
      "PAY_AMTMAY           30000 non-null int64\n",
      "PAY_AMTJUNE          30000 non-null int64\n",
      "PAY_AMTJULY          30000 non-null int64\n",
      "PAY_AMTAUG           30000 non-null int64\n",
      "PAY_AMTSEP           30000 non-null int64\n",
      "DEFAULT_PAY_NEXTM    30000 non-null int64\n",
      "dtypes: int64(21), object(3)\n",
      "memory usage: 5.5+ MB\n"
     ]
    }
   ],
   "source": [
    "#Revisar data types\n",
    "credit.info()"
   ]
  },
  {
   "cell_type": "markdown",
   "metadata": {},
   "source": []
  },
  {
   "cell_type": "markdown",
   "metadata": {},
   "source": [
    "## Mapa de calor de correlaciones"
   ]
  },
  {
   "cell_type": "code",
   "execution_count": 8,
   "metadata": {},
   "outputs": [
    {
     "data": {
      "image/png": "[encoded data removed]",
      "text/plain": [
       "<Figure size 432x288 with 2 Axes>"
      ]
     },
     "metadata": {
      "needs_background": "light"
     },
     "output_type": "display_data"
    }
   ],
   "source": [
    "corr = credit.corr()\n",
    "ax = sns.heatmap(\n",
    "    corr, \n",
    "    vmin=-1, vmax=1, center=0,\n",
    "    cmap=sns.diverging_palette(20, 220, n=200),\n",
    "    square=True,\n",
    "    linewidths=.5\n",
    ")\n",
    "ax.set_xticklabels(\n",
    "    ax.get_xticklabels(),\n",
    "    rotation=45,\n",
    "    horizontalalignment='right'\n",
    ");"
   ]
  },
  {
   "cell_type": "markdown",
   "metadata": {},
   "source": [
    "Where do your eyes jump first when you look at the chart?\n",
    "What’s the strongest and what’s the weakest correlated pair (except the main diagonal)? What are the three variables most correlated with Default Payment?"
   ]
  },
  {
   "cell_type": "code",
   "execution_count": 9,
   "metadata": {},
   "outputs": [
    {
     "data": {
      "text/plain": [
       "<matplotlib.axes._subplots.AxesSubplot at 0x2594edb67c8>"
      ]
     },
     "execution_count": 9,
     "metadata": {},
     "output_type": "execute_result"
    },
    {
     "data": {
      "image/png": "[encoded data removed]",
      "text/plain": [
       "<Figure size 432x288 with 1 Axes>"
      ]
     },
     "metadata": {
      "needs_background": "light"
     },
     "output_type": "display_data"
    }
   ],
   "source": [
    "credit['AGE'].plot.hist()"
   ]
  },
  {
   "cell_type": "markdown",
   "metadata": {},
   "source": [
    "# Exploratory data analysis (EDA)\n",
    "## Visualizing the data "
   ]
  },
  {
   "cell_type": "code",
   "execution_count": 10,
   "metadata": {},
   "outputs": [
    {
     "name": "stdout",
     "output_type": "stream",
     "text": [
      "Index(['LIMIT_BAL', 'SEX', 'EDUCATION', 'MARRIAGE', 'AGE', 'PAY_APRIL',\n",
      "       'PAY_MAY', 'PAY_JUNE', 'PAY_JULY', 'PAY_AUG', 'PAY_SEP',\n",
      "       'BILL_AMTAPRIL', 'BILL_AMTMAY', 'BILL_AMTJUNE', 'BILL_AMTJULY',\n",
      "       'BILL_AMTAUG', 'BILL_AMTSEP', 'PAY_AMTAPRIL', 'PAY_AMTMAY',\n",
      "       'PAY_AMTJUNE', 'PAY_AMTJULY', 'PAY_AMTAUG', 'PAY_AMTSEP',\n",
      "       'DEFAULT_PAY_NEXTM'],\n",
      "      dtype='object')\n"
     ]
    }
   ],
   "source": [
    "#Index de la tabla\n",
    "header = credit.dtypes.index\n",
    "print(header)"
   ]
  },
  {
   "cell_type": "code",
   "execution_count": 11,
   "metadata": {},
   "outputs": [
    {
     "data": {
      "image/png": "[encoded data removed]",
      "text/plain": [
       "<Figure size 432x288 with 1 Axes>"
      ]
     },
     "metadata": {
      "needs_background": "light"
     },
     "output_type": "display_data"
    }
   ],
   "source": [
    "#.hist method of matplotlib\n",
    "plt.hist(credit['LIMIT_BAL'])\n",
    "plt.show()"
   ]
  },
  {
   "cell_type": "code",
   "execution_count": 12,
   "metadata": {},
   "outputs": [
    {
     "data": {
      "text/plain": [
       "(array([2.3283e+04, 6.5110e+03, 2.0000e+02, 6.0000e+00]),\n",
       " array([  333.,  8575., 16817., 25059., 33301.]),\n",
       " <a list of 4 Patch objects>)"
      ]
     },
     "execution_count": 12,
     "metadata": {},
     "output_type": "execute_result"
    },
    {
     "data": {
      "image/png": "[encoded data removed]",
      "text/plain": [
       "<Figure size 432x288 with 1 Axes>"
      ]
     },
     "metadata": {
      "needs_background": "light"
     },
     "output_type": "display_data"
    }
   ],
   "source": [
    "#bins in your histograms\n",
    "plt.hist(credit['LIMIT_BAL'], bins=4)"
   ]
  },
  {
   "cell_type": "code",
   "execution_count": 13,
   "metadata": {},
   "outputs": [
    {
     "data": {
      "text/plain": [
       "(array([23364.,     0.,     0.,     0.,     0.,     0.,     0.,     0.,\n",
       "            0.,  6636.]),\n",
       " array([0. , 0.1, 0.2, 0.3, 0.4, 0.5, 0.6, 0.7, 0.8, 0.9, 1. ]),\n",
       " <a list of 10 Patch objects>)"
      ]
     },
     "execution_count": 13,
     "metadata": {},
     "output_type": "execute_result"
    },
    {
     "data": {
      "image/png": "[encoded data removed]",
      "text/plain": [
       "<Figure size 432x288 with 1 Axes>"
      ]
     },
     "metadata": {
      "needs_background": "light"
     },
     "output_type": "display_data"
    }
   ],
   "source": [
    "plt.hist(credit['DEFAULT_PAY_NEXTM'] )"
   ]
  },
  {
   "cell_type": "code",
   "execution_count": 14,
   "metadata": {},
   "outputs": [
    {
     "data": {
      "text/plain": [
       "(array([16809., 10511.,  2570.,   110.]),\n",
       " array([21. , 35.5, 50. , 64.5, 79. ]),\n",
       " <a list of 4 Patch objects>)"
      ]
     },
     "execution_count": 14,
     "metadata": {},
     "output_type": "execute_result"
    },
    {
     "data": {
      "image/png": "[encoded data removed]",
      "text/plain": [
       "<Figure size 432x288 with 1 Axes>"
      ]
     },
     "metadata": {
      "needs_background": "light"
     },
     "output_type": "display_data"
    }
   ],
   "source": [
    "#Age\n",
    "plt.hist(credit['AGE'], bins=4)"
   ]
  },
  {
   "cell_type": "code",
   "execution_count": 15,
   "metadata": {},
   "outputs": [
    {
     "data": {
      "text/plain": [
       "(array([13659., 15964.,   323.,    54.]),\n",
       " array([0.  , 0.75, 1.5 , 2.25, 3.  ]),\n",
       " <a list of 4 Patch objects>)"
      ]
     },
     "execution_count": 15,
     "metadata": {},
     "output_type": "execute_result"
    },
    {
     "data": {
      "image/png": "[encoded data removed]",
      "text/plain": [
       "<Figure size 432x288 with 1 Axes>"
      ]
     },
     "metadata": {
      "needs_background": "light"
     },
     "output_type": "display_data"
    }
   ],
   "source": [
    "#Age\n",
    "plt.hist(credit['MARRIAGE'], bins=4)"
   ]
  },
  {
   "cell_type": "markdown",
   "metadata": {},
   "source": [
    "## Line Plots"
   ]
  },
  {
   "cell_type": "code",
   "execution_count": 16,
   "metadata": {},
   "outputs": [
    {
     "data": {
      "image/png": "[encoded data removed]",
      "text/plain": [
       "<Figure size 432x288 with 1 Axes>"
      ]
     },
     "metadata": {
      "needs_background": "light"
     },
     "output_type": "display_data"
    }
   ],
   "source": [
    "plt.plot(credit['LIMIT_BAL'])\n",
    "plt.show()\n"
   ]
  },
  {
   "cell_type": "markdown",
   "metadata": {},
   "source": [
    "## Scatter Plots"
   ]
  },
  {
   "cell_type": "code",
   "execution_count": 17,
   "metadata": {},
   "outputs": [],
   "source": [
    "#set the two features equal to variables \n",
    "\n",
    "x = credit['PAY_SEP']\n",
    "y = credit['PAY_AUG']"
   ]
  },
  {
   "cell_type": "code",
   "execution_count": 18,
   "metadata": {},
   "outputs": [
    {
     "data": {
      "image/png": "[encoded data removed]",
      "text/plain": [
       "<Figure size 432x288 with 1 Axes>"
      ]
     },
     "metadata": {
      "needs_background": "light"
     },
     "output_type": "display_data"
    }
   ],
   "source": [
    "# create the scatter plot using the two variables for the X and Y axes\n",
    "plt.scatter(x,y)\n",
    "plt.show()"
   ]
  },
  {
   "cell_type": "markdown",
   "metadata": {},
   "source": [
    "## Box plots\n",
    "Are very useful for quickly visualizing where the bulk of the data is in any given feature ad are also very useful for identifying feature with outliers or extreme variances in the observations. "
   ]
  },
  {
   "cell_type": "code",
   "execution_count": 19,
   "metadata": {},
   "outputs": [
    {
     "name": "stdout",
     "output_type": "stream",
     "text": [
      "Index(['LIMIT_BAL', 'SEX', 'EDUCATION', 'MARRIAGE', 'AGE', 'PAY_APRIL',\n",
      "       'PAY_MAY', 'PAY_JUNE', 'PAY_JULY', 'PAY_AUG', 'PAY_SEP',\n",
      "       'BILL_AMTAPRIL', 'BILL_AMTMAY', 'BILL_AMTJUNE', 'BILL_AMTJULY',\n",
      "       'BILL_AMTAUG', 'BILL_AMTSEP', 'PAY_AMTAPRIL', 'PAY_AMTMAY',\n",
      "       'PAY_AMTJUNE', 'PAY_AMTJULY', 'PAY_AMTAUG', 'PAY_AMTSEP',\n",
      "       'DEFAULT_PAY_NEXTM'],\n",
      "      dtype='object')\n"
     ]
    }
   ],
   "source": [
    "header = credit.dtypes.index\n",
    "print(header)"
   ]
  },
  {
   "cell_type": "code",
   "execution_count": 20,
   "metadata": {},
   "outputs": [
    {
     "data": {
      "image/png": "[encoded data removed]",
      "text/plain": [
       "<Figure size 432x288 with 1 Axes>"
      ]
     },
     "metadata": {
      "needs_background": "light"
     },
     "output_type": "display_data"
    }
   ],
   "source": [
    "A = credit['BILL_AMTAPRIL']\n",
    "plt.boxplot(A,0,'gD')\n",
    "plt.show()"
   ]
  },
  {
   "cell_type": "code",
   "execution_count": 21,
   "metadata": {},
   "outputs": [
    {
     "data": {
      "image/png": "[encoded data removed]",
      "text/plain": [
       "<Figure size 432x288 with 1 Axes>"
      ]
     },
     "metadata": {
      "needs_background": "light"
     },
     "output_type": "display_data"
    }
   ],
   "source": [
    "A = credit['LIMIT_BAL']\n",
    "plt.boxplot(A,0,'gD')\n",
    "plt.show()"
   ]
  },
  {
   "cell_type": "markdown",
   "metadata": {},
   "source": [
    "## Corralation"
   ]
  },
  {
   "cell_type": "code",
   "execution_count": 22,
   "metadata": {},
   "outputs": [
    {
     "name": "stdout",
     "output_type": "stream",
     "text": [
      "                   LIMIT_BAL       AGE  PAY_APRIL   PAY_MAY  PAY_JUNE  \\\n",
      "LIMIT_BAL           1.000000  0.144713  -0.235192 -0.249408 -0.267456   \n",
      "AGE                 0.144713  1.000000  -0.048773 -0.053826 -0.049722   \n",
      "PAY_APRIL          -0.235192 -0.048773   1.000000  0.816900  0.716449   \n",
      "PAY_MAY            -0.249408 -0.053826   0.816900  1.000000  0.819835   \n",
      "PAY_JUNE           -0.267456 -0.049722   0.716449  0.819835  1.000000   \n",
      "PAY_JULY           -0.286119 -0.053048   0.632684  0.686775  0.777359   \n",
      "PAY_AUG            -0.296378 -0.050148   0.575501  0.622780  0.662067   \n",
      "PAY_SEP            -0.271211 -0.039447   0.474553  0.509426  0.538841   \n",
      "BILL_AMTAPRIL       0.290391  0.047612   0.285091  0.262509  0.239154   \n",
      "BILL_AMTMAY         0.295565  0.049346   0.290893  0.269782  0.242902   \n",
      "BILL_AMTJUNE        0.293990  0.051353   0.266357  0.271915  0.245917   \n",
      "BILL_AMTJULY        0.283237  0.053708   0.241181  0.243334  0.244983   \n",
      "BILL_AMTAUG         0.278315  0.054284   0.226924  0.226913  0.225816   \n",
      "BILL_AMTSEP         0.285431  0.056239   0.207372  0.206683  0.202811   \n",
      "PAY_AMTAPRIL        0.219602  0.019476  -0.025288 -0.023016 -0.026553   \n",
      "PAY_AMTMAY          0.217209  0.022842  -0.046419 -0.033319 -0.033574   \n",
      "PAY_AMTJUNE         0.203247  0.021376   0.019035 -0.058288 -0.043450   \n",
      "PAY_AMTJULY         0.210167  0.029246   0.005855  0.009081 -0.069225   \n",
      "PAY_AMTAUG          0.178401  0.021782  -0.005206 -0.003174 -0.001928   \n",
      "PAY_AMTSEP          0.195219  0.026139  -0.001475 -0.006067 -0.009340   \n",
      "DEFAULT_PAY_NEXTM  -0.153519  0.013890   0.186866  0.204149  0.216614   \n",
      "\n",
      "                   PAY_JULY   PAY_AUG   PAY_SEP  BILL_AMTAPRIL  BILL_AMTMAY  \\\n",
      "LIMIT_BAL         -0.286119 -0.296378 -0.271211       0.290391     0.295565   \n",
      "AGE               -0.053048 -0.050148 -0.039447       0.047612     0.049346   \n",
      "PAY_APRIL          0.632684  0.575501  0.474553       0.285091     0.290893   \n",
      "PAY_MAY            0.686775  0.622780  0.509426       0.262509     0.269782   \n",
      "PAY_JUNE           0.777359  0.662067  0.538841       0.239154     0.242902   \n",
      "PAY_JULY           1.000000  0.766552  0.574245       0.222327     0.225144   \n",
      "PAY_AUG            0.766552  1.000000  0.672164       0.219403     0.221347   \n",
      "PAY_SEP            0.574245  0.672164  1.000000       0.176979     0.180633   \n",
      "BILL_AMTAPRIL      0.222327  0.219403  0.176979       1.000000     0.946197   \n",
      "BILL_AMTMAY        0.225144  0.221347  0.180633       0.946197     1.000000   \n",
      "BILL_AMTJUNE       0.227202  0.222236  0.179124       0.900941     0.940134   \n",
      "BILL_AMTJULY       0.227495  0.224145  0.179784       0.853320     0.883910   \n",
      "BILL_AMTAUG        0.237294  0.235257  0.189858       0.831593     0.859778   \n",
      "BILL_AMTSEP        0.208472  0.234886  0.187067       0.802650     0.829778   \n",
      "PAY_AMTAPRIL      -0.035849 -0.036491 -0.058669       0.115510     0.164200   \n",
      "PAY_AMTMAY        -0.035850 -0.037081 -0.058184       0.307746     0.141593   \n",
      "PAY_AMTJUNE       -0.046056 -0.046851 -0.064001       0.250253     0.293137   \n",
      "PAY_AMTJULY       -0.053301 -0.055888 -0.070553       0.233779     0.252316   \n",
      "PAY_AMTAUG        -0.066787 -0.058981 -0.070094       0.172662     0.181245   \n",
      "PAY_AMTSEP         0.001313 -0.080691 -0.079262       0.199956     0.217022   \n",
      "DEFAULT_PAY_NEXTM  0.235253  0.263551  0.324794      -0.005373    -0.006761   \n",
      "\n",
      "                   BILL_AMTJUNE  BILL_AMTJULY  BILL_AMTAUG  BILL_AMTSEP  \\\n",
      "LIMIT_BAL              0.293990      0.283237     0.278315     0.285431   \n",
      "AGE                    0.051353      0.053708     0.054284     0.056239   \n",
      "PAY_APRIL              0.266357      0.241181     0.226924     0.207372   \n",
      "PAY_MAY                0.271915      0.243334     0.226913     0.206683   \n",
      "PAY_JUNE               0.245917      0.244983     0.225816     0.202811   \n",
      "PAY_JULY               0.227202      0.227495     0.237294     0.208472   \n",
      "PAY_AUG                0.222236      0.224145     0.235257     0.234886   \n",
      "PAY_SEP                0.179124      0.179784     0.189858     0.187067   \n",
      "BILL_AMTAPRIL          0.900941      0.853320     0.831593     0.802650   \n",
      "BILL_AMTMAY            0.940134      0.883910     0.859778     0.829778   \n",
      "BILL_AMTJUNE           1.000000      0.923970     0.892482     0.860272   \n",
      "BILL_AMTJULY           0.923970      1.000000     0.928326     0.892278   \n",
      "BILL_AMTAUG            0.892482      0.928326     1.000000     0.951483   \n",
      "BILL_AMTSEP            0.860272      0.892278     0.951483     1.000000   \n",
      "PAY_AMTAPRIL           0.177651      0.182338     0.174269     0.179353   \n",
      "PAY_AMTMAY             0.160451      0.179729     0.157975     0.167043   \n",
      "PAY_AMTJUNE            0.130210      0.143421     0.147416     0.158317   \n",
      "PAY_AMTJULY            0.300032      0.130020     0.150727     0.156896   \n",
      "PAY_AMTAUG             0.207562      0.316933     0.100849     0.099351   \n",
      "PAY_AMTSEP             0.233003      0.244326     0.280356     0.140268   \n",
      "DEFAULT_PAY_NEXTM     -0.010156     -0.014075    -0.014192    -0.019644   \n",
      "\n",
      "                   PAY_AMTAPRIL  PAY_AMTMAY  PAY_AMTJUNE  PAY_AMTJULY  \\\n",
      "LIMIT_BAL              0.219602    0.217209     0.203247     0.210167   \n",
      "AGE                    0.019476    0.022842     0.021376     0.029246   \n",
      "PAY_APRIL             -0.025288   -0.046419     0.019035     0.005855   \n",
      "PAY_MAY               -0.023016   -0.033319    -0.058288     0.009081   \n",
      "PAY_JUNE              -0.026553   -0.033574    -0.043450    -0.069225   \n",
      "PAY_JULY              -0.035849   -0.035850    -0.046056    -0.053301   \n",
      "PAY_AUG               -0.036491   -0.037081    -0.046851    -0.055888   \n",
      "PAY_SEP               -0.058669   -0.058184    -0.064001    -0.070553   \n",
      "BILL_AMTAPRIL          0.115510    0.307746     0.250253     0.233779   \n",
      "BILL_AMTMAY            0.164200    0.141593     0.293137     0.252316   \n",
      "BILL_AMTJUNE           0.177651    0.160451     0.130210     0.300032   \n",
      "BILL_AMTJULY           0.182338    0.179729     0.143421     0.130020   \n",
      "BILL_AMTAUG            0.174269    0.157975     0.147416     0.150727   \n",
      "BILL_AMTSEP            0.179353    0.167043     0.158317     0.156896   \n",
      "PAY_AMTAPRIL           1.000000    0.154902     0.157841     0.162740   \n",
      "PAY_AMTMAY             0.154902    1.000000     0.151835     0.159211   \n",
      "PAY_AMTJUNE            0.157841    0.151835     1.000000     0.216327   \n",
      "PAY_AMTJULY            0.162740    0.159211     0.216327     1.000000   \n",
      "PAY_AMTAUG             0.157636    0.180911     0.180109     0.244767   \n",
      "PAY_AMTSEP             0.185735    0.148459     0.199562     0.252191   \n",
      "DEFAULT_PAY_NEXTM     -0.053186   -0.055131    -0.056832    -0.056253   \n",
      "\n",
      "                   PAY_AMTAUG  PAY_AMTSEP  DEFAULT_PAY_NEXTM  \n",
      "LIMIT_BAL            0.178401    0.195219          -0.153519  \n",
      "AGE                  0.021782    0.026139           0.013890  \n",
      "PAY_APRIL           -0.005206   -0.001475           0.186866  \n",
      "PAY_MAY             -0.003174   -0.006067           0.204149  \n",
      "PAY_JUNE            -0.001928   -0.009340           0.216614  \n",
      "PAY_JULY            -0.066787    0.001313           0.235253  \n",
      "PAY_AUG             -0.058981   -0.080691           0.263551  \n",
      "PAY_SEP             -0.070094   -0.079262           0.324794  \n",
      "BILL_AMTAPRIL        0.172662    0.199956          -0.005373  \n",
      "BILL_AMTMAY          0.181245    0.217022          -0.006761  \n",
      "BILL_AMTJUNE         0.207562    0.233003          -0.010156  \n",
      "BILL_AMTJULY         0.316933    0.244326          -0.014075  \n",
      "BILL_AMTAUG          0.100849    0.280356          -0.014192  \n",
      "BILL_AMTSEP          0.099351    0.140268          -0.019644  \n",
      "PAY_AMTAPRIL         0.157636    0.185735          -0.053186  \n",
      "PAY_AMTMAY           0.180911    0.148459          -0.055131  \n",
      "PAY_AMTJUNE          0.180109    0.199562          -0.056832  \n",
      "PAY_AMTJULY          0.244767    0.252191          -0.056253  \n",
      "PAY_AMTAUG           1.000000    0.285567          -0.058579  \n",
      "PAY_AMTSEP           0.285567    1.000000          -0.072932  \n",
      "DEFAULT_PAY_NEXTM   -0.058579   -0.072932           1.000000  \n"
     ]
    }
   ],
   "source": [
    "corrMat = credit.corr()\n",
    "print(corrMat)"
   ]
  },
  {
   "cell_type": "markdown",
   "metadata": {},
   "source": [
    "## Covariance\n",
    "Used to gauge the linear degree of change between two variables. Simply put, you can use covariance to measure how changes in one variable are associated with changes in a second variable."
   ]
  },
  {
   "cell_type": "code",
   "execution_count": 23,
   "metadata": {},
   "outputs": [
    {
     "name": "stdout",
     "output_type": "stream",
     "text": [
      "                      LIMIT_BAL          AGE    PAY_APRIL      PAY_MAY  \\\n",
      "LIMIT_BAL          1.866850e+07  5763.613554 -1168.611314 -1221.141630   \n",
      "AGE                5.763614e+03    84.969755    -0.517022    -0.562245   \n",
      "PAY_APRIL         -1.168611e+03    -0.517022     1.322472     1.064545   \n",
      "PAY_MAY           -1.221142e+03    -0.562245     1.064545     1.284114   \n",
      "PAY_JUNE          -1.351056e+03    -0.535851     0.963263     1.086161   \n",
      "PAY_JULY          -1.479611e+03    -0.585263     0.870815     0.931455   \n",
      "PAY_AUG           -1.533072e+03    -0.553408     0.792320     0.844886   \n",
      "PAY_SEP           -1.316898e+03    -0.408639     0.613292     0.648743   \n",
      "BILL_AMTAPRIL      2.488326e+06   870.393076   650.198887   589.951103   \n",
      "BILL_AMTMAY        2.585523e+06   920.919282   677.278955   618.951215   \n",
      "BILL_AMTJUNE       2.721312e+06  1014.115530   656.217004   660.125150   \n",
      "BILL_AMTJULY       2.826217e+06  1143.336683   640.526236   636.803430   \n",
      "BILL_AMTAUG        2.850159e+06  1185.999993   618.517371   609.450964   \n",
      "BILL_AMTSEP        3.024147e+06  1271.209723   584.779330   574.320215   \n",
      "PAY_AMTAPRIL       5.617175e+05   106.280600   -17.215910   -15.440261   \n",
      "PAY_AMTMAY         4.774917e+05   107.125663   -27.159585   -19.210139   \n",
      "PAY_AMTJUNE        4.581403e+05   102.794307    11.420231   -34.458962   \n",
      "PAY_AMTJULY        5.324308e+05   158.065800     3.947877     6.033314   \n",
      "PAY_AMTAUG         5.914387e+05   154.062573    -4.593998    -2.759491   \n",
      "PAY_AMTSEP         4.652386e+05   132.899930    -0.935691    -3.791858   \n",
      "DEFAULT_PAY_NEXTM -2.753139e+02     0.053143     0.089194     0.096020   \n",
      "\n",
      "                      PAY_JUNE     PAY_JULY      PAY_AUG      PAY_SEP  \\\n",
      "LIMIT_BAL         -1351.055543 -1479.611379 -1533.072153 -1316.897704   \n",
      "AGE                  -0.535851    -0.585263    -0.553408    -0.408639   \n",
      "PAY_APRIL             0.963263     0.870815     0.792320     0.613292   \n",
      "PAY_MAY               1.086161     0.931455     0.844886     0.648743   \n",
      "PAY_JUNE              1.366885     1.087761     0.926680     0.707972   \n",
      "PAY_JULY              1.087761     1.432492     1.098371     0.772384   \n",
      "PAY_AUG               0.926680     1.098371     1.433254     0.904330   \n",
      "PAY_SEP               0.707972     0.772384     0.904330     1.262930   \n",
      "BILL_AMTAPRIL       554.516000   527.724536   520.922217   394.440224   \n",
      "BILL_AMTMAY         574.960099   545.567719   536.508486   410.987550   \n",
      "BILL_AMTJUNE        615.950661   582.571478   569.989911   431.254558   \n",
      "BILL_AMTJULY        661.457516   628.808101   619.714620   466.597745   \n",
      "BILL_AMTAUG         625.746999   673.148080   667.547605   505.705865   \n",
      "BILL_AMTSEP         581.441283   611.845612   689.550201   515.506486   \n",
      "PAY_AMTAPRIL        -18.378522   -25.400916   -25.862813   -39.032268   \n",
      "PAY_AMTMAY          -19.971127   -21.831009   -22.586283   -33.267755   \n",
      "PAY_AMTJUNE         -26.501973   -28.757526   -29.261573   -37.522578   \n",
      "PAY_AMTJULY         -47.454160   -37.404280   -39.230269   -46.488846   \n",
      "PAY_AMTAUG           -1.729745   -61.333181   -54.179300   -60.440368   \n",
      "PAY_AMTSEP           -6.022671     0.866961   -53.282886   -49.130594   \n",
      "DEFAULT_PAY_NEXTM     0.105115     0.116867     0.130960     0.151499   \n",
      "\n",
      "                   BILL_AMTAPRIL   BILL_AMTMAY  BILL_AMTJUNE  BILL_AMTJULY  \\\n",
      "LIMIT_BAL           2.488326e+06  2.585523e+06  2.721312e+06  2.826217e+06   \n",
      "AGE                 8.703931e+02  9.209193e+02  1.014116e+03  1.143337e+03   \n",
      "PAY_APRIL           6.501989e+02  6.772790e+02  6.562170e+02  6.405262e+02   \n",
      "PAY_MAY             5.899511e+02  6.189512e+02  6.601251e+02  6.368034e+02   \n",
      "PAY_JUNE            5.545160e+02  5.749601e+02  6.159507e+02  6.614575e+02   \n",
      "PAY_JULY            5.277245e+02  5.455677e+02  5.825715e+02  6.288081e+02   \n",
      "PAY_AUG             5.209222e+02  5.365085e+02  5.699899e+02  6.197146e+02   \n",
      "PAY_SEP             3.944402e+02  4.109875e+02  4.312546e+02  4.665977e+02   \n",
      "BILL_AMTAPRIL       3.933137e+06  3.799202e+06  3.827867e+06  3.908250e+06   \n",
      "BILL_AMTMAY         3.799202e+06  4.099045e+06  4.077765e+06  4.132853e+06   \n",
      "BILL_AMTJUNE        3.827867e+06  4.077765e+06  4.589674e+06  4.571403e+06   \n",
      "BILL_AMTJULY        3.908250e+06  4.132853e+06  4.571403e+06  5.333369e+06   \n",
      "BILL_AMTAUG         3.908939e+06  4.125780e+06  4.531780e+06  5.081358e+06   \n",
      "BILL_AMTSEP         3.903403e+06  4.119560e+06  4.519336e+06  5.052996e+06   \n",
      "PAY_AMTAPRIL        1.356176e+05  1.968079e+05  2.253126e+05  2.492903e+05   \n",
      "PAY_AMTMAY          3.105231e+05  1.458532e+05  1.748906e+05  2.111797e+05   \n",
      "PAY_AMTJUNE         2.589216e+05  3.096216e+05  1.455307e+05  1.727957e+05   \n",
      "PAY_AMTJULY         2.718430e+05  2.995227e+05  3.768791e+05  1.760576e+05   \n",
      "PAY_AMTAUG          2.627385e+05  2.815563e+05  3.411898e+05  5.615989e+05   \n",
      "PAY_AMTSEP          2.187267e+05  2.423504e+05  2.753286e+05  3.112213e+05   \n",
      "DEFAULT_PAY_NEXTM  -4.422783e+00 -5.681512e+00 -9.030941e+00 -1.349173e+01   \n",
      "\n",
      "                    BILL_AMTAUG   BILL_AMTSEP   PAY_AMTAPRIL     PAY_AMTMAY  \\\n",
      "LIMIT_BAL          2.850159e+06  3.024147e+06  561717.497579  477491.699632   \n",
      "AGE                1.186000e+03  1.271210e+03     106.280600     107.125663   \n",
      "PAY_APRIL          6.185174e+02  5.847793e+02     -17.215910     -27.159585   \n",
      "PAY_MAY            6.094510e+02  5.743202e+02     -15.440261     -19.210139   \n",
      "PAY_JUNE           6.257470e+02  5.814413e+02     -18.378522     -19.971127   \n",
      "PAY_JULY           6.731481e+02  6.118456e+02     -25.400916     -21.831009   \n",
      "PAY_AUG            6.675476e+02  6.895502e+02     -25.862813     -22.586283   \n",
      "PAY_SEP            5.057059e+02  5.155065e+02     -39.032268     -33.267755   \n",
      "BILL_AMTAPRIL      3.908939e+06  3.903403e+06  135617.625127  310523.072844   \n",
      "BILL_AMTMAY        4.125780e+06  4.119560e+06  196807.882914  145853.217009   \n",
      "BILL_AMTJUNE       4.531780e+06  4.519336e+06  225312.553684  174890.594407   \n",
      "BILL_AMTJULY       5.081358e+06  5.052996e+06  249290.312760  211179.673561   \n",
      "BILL_AMTAUG        5.617676e+06  5.530027e+06  244526.975626  190502.197083   \n",
      "BILL_AMTSEP        5.530027e+06  6.013062e+06  260366.161342  208405.151964   \n",
      "PAY_AMTAPRIL       2.445270e+05  2.603662e+05  350472.999000   46657.024839   \n",
      "PAY_AMTMAY         1.905022e+05  2.084052e+05   46657.024839  258860.104241   \n",
      "PAY_AMTJUNE        1.822814e+05  2.025324e+05   48749.104801   40301.684300   \n",
      "PAY_AMTJULY        2.094656e+05  2.255805e+05   56489.053296   47495.050353   \n",
      "PAY_AMTAUG         1.834035e+05  1.869299e+05   71604.514409   70624.304736   \n",
      "PAY_AMTSEP         3.665108e+05  1.897162e+05   60648.585137   41661.680078   \n",
      "DEFAULT_PAY_NEXTM -1.396196e+01 -1.999383e+01     -13.068937     -11.642349   \n",
      "\n",
      "                     PAY_AMTJUNE    PAY_AMTJULY     PAY_AMTAUG     PAY_AMTSEP  \\\n",
      "LIMIT_BAL          458140.311822  532430.778645  591438.703406  465238.555843   \n",
      "AGE                   102.794307     158.065800     154.062573     132.899930   \n",
      "PAY_APRIL              11.420231       3.947877      -4.593998      -0.935691   \n",
      "PAY_MAY               -34.458962       6.033314      -2.759491      -3.791858   \n",
      "PAY_JUNE              -26.501973     -47.454160      -1.729745      -6.022671   \n",
      "PAY_JULY              -28.757526     -37.404280     -61.333181       0.866961   \n",
      "PAY_AUG               -29.261573     -39.230269     -54.179300     -53.282886   \n",
      "PAY_SEP               -37.522578     -46.488846     -60.440368     -49.130594   \n",
      "BILL_AMTAPRIL      258921.590015  271842.951640  262738.516351  218726.653759   \n",
      "BILL_AMTMAY        309621.593028  299522.683091  281556.289928  242350.361059   \n",
      "BILL_AMTJUNE       145530.725618  376879.116448  341189.843602  275328.573591   \n",
      "BILL_AMTJULY       172795.690559  176057.591344  561598.884047  311221.338768   \n",
      "BILL_AMTAUG        182281.393785  209465.607509  183403.518754  366510.828428   \n",
      "BILL_AMTSEP        202532.383548  225580.506077  186929.947127  189716.173441   \n",
      "PAY_AMTAPRIL        48749.104801   56489.053296   71604.514409   60648.585137   \n",
      "PAY_AMTMAY          40301.684300   47495.050353   70624.304736   41661.680078   \n",
      "PAY_AMTJUNE        272168.997843   66171.937167   72096.356623   57424.447275   \n",
      "PAY_AMTJULY         66171.937167  343784.214957  110116.647592   81558.785473   \n",
      "PAY_AMTAUG          72096.356623  110116.647592  588729.059319  120854.990727   \n",
      "PAY_AMTSEP          57424.447275   81558.785473  120854.990727  304226.560965   \n",
      "DEFAULT_PAY_NEXTM     -12.306181     -13.690037     -18.655813     -16.696557   \n",
      "\n",
      "                   DEFAULT_PAY_NEXTM  \n",
      "LIMIT_BAL                -275.313913  \n",
      "AGE                         0.053143  \n",
      "PAY_APRIL                   0.089194  \n",
      "PAY_MAY                     0.096020  \n",
      "PAY_JUNE                    0.105115  \n",
      "PAY_JULY                    0.116867  \n",
      "PAY_AUG                     0.130960  \n",
      "PAY_SEP                     0.151499  \n",
      "BILL_AMTAPRIL              -4.422783  \n",
      "BILL_AMTMAY                -5.681512  \n",
      "BILL_AMTJUNE               -9.030941  \n",
      "BILL_AMTJULY              -13.491733  \n",
      "BILL_AMTAUG               -13.961956  \n",
      "BILL_AMTSEP               -19.993826  \n",
      "PAY_AMTAPRIL              -13.068937  \n",
      "PAY_AMTMAY                -11.642349  \n",
      "PAY_AMTJUNE               -12.306181  \n",
      "PAY_AMTJULY               -13.690037  \n",
      "PAY_AMTAUG                -18.655813  \n",
      "PAY_AMTSEP                -16.696557  \n",
      "DEFAULT_PAY_NEXTM           0.172276  \n"
     ]
    }
   ],
   "source": [
    "covMat = credit.cov()\n",
    "print(covMat)"
   ]
  },
  {
   "cell_type": "markdown",
   "metadata": {},
   "source": [
    "# EDA Analisis v2"
   ]
  },
  {
   "cell_type": "code",
   "execution_count": 24,
   "metadata": {},
   "outputs": [
    {
     "data": {
      "text/html": [
       "<div>\n",
       "<style scoped>\n",
       "    .dataframe tbody tr th:only-of-type {\n",
       "        vertical-align: middle;\n",
       "    }\n",
       "\n",
       "    .dataframe tbody tr th {\n",
       "        vertical-align: top;\n",
       "    }\n",
       "\n",
       "    .dataframe thead th {\n",
       "        text-align: right;\n",
       "    }\n",
       "</style>\n",
       "<table border=\"1\" class=\"dataframe\">\n",
       "  <thead>\n",
       "    <tr style=\"text-align: right;\">\n",
       "      <th></th>\n",
       "      <th>LIMIT_BAL</th>\n",
       "      <th>SEX</th>\n",
       "      <th>EDUCATION</th>\n",
       "      <th>MARRIAGE</th>\n",
       "      <th>AGE</th>\n",
       "      <th>PAY_APRIL</th>\n",
       "      <th>PAY_MAY</th>\n",
       "      <th>PAY_JUNE</th>\n",
       "      <th>PAY_JULY</th>\n",
       "      <th>PAY_AUG</th>\n",
       "      <th>PAY_SEP</th>\n",
       "      <th>BILL_AMTAPRIL</th>\n",
       "      <th>BILL_AMTMAY</th>\n",
       "      <th>BILL_AMTJUNE</th>\n",
       "      <th>BILL_AMTJULY</th>\n",
       "      <th>BILL_AMTAUG</th>\n",
       "      <th>BILL_AMTSEP</th>\n",
       "      <th>PAY_AMTAPRIL</th>\n",
       "      <th>PAY_AMTMAY</th>\n",
       "      <th>PAY_AMTJUNE</th>\n",
       "      <th>PAY_AMTJULY</th>\n",
       "      <th>PAY_AMTAUG</th>\n",
       "      <th>PAY_AMTSEP</th>\n",
       "      <th>ISDEFAULT</th>\n",
       "    </tr>\n",
       "  </thead>\n",
       "  <tbody>\n",
       "    <tr>\n",
       "      <td>0</td>\n",
       "      <td>666</td>\n",
       "      <td>Female</td>\n",
       "      <td>University</td>\n",
       "      <td>Married</td>\n",
       "      <td>24</td>\n",
       "      <td>-2</td>\n",
       "      <td>-2</td>\n",
       "      <td>-1</td>\n",
       "      <td>-1</td>\n",
       "      <td>2</td>\n",
       "      <td>2</td>\n",
       "      <td>0</td>\n",
       "      <td>0</td>\n",
       "      <td>0</td>\n",
       "      <td>23</td>\n",
       "      <td>103</td>\n",
       "      <td>130</td>\n",
       "      <td>0</td>\n",
       "      <td>0</td>\n",
       "      <td>0</td>\n",
       "      <td>0</td>\n",
       "      <td>23</td>\n",
       "      <td>0</td>\n",
       "      <td>1</td>\n",
       "    </tr>\n",
       "    <tr>\n",
       "      <td>1</td>\n",
       "      <td>3996</td>\n",
       "      <td>Female</td>\n",
       "      <td>University</td>\n",
       "      <td>Single</td>\n",
       "      <td>26</td>\n",
       "      <td>2</td>\n",
       "      <td>0</td>\n",
       "      <td>0</td>\n",
       "      <td>0</td>\n",
       "      <td>2</td>\n",
       "      <td>-1</td>\n",
       "      <td>109</td>\n",
       "      <td>115</td>\n",
       "      <td>109</td>\n",
       "      <td>89</td>\n",
       "      <td>57</td>\n",
       "      <td>89</td>\n",
       "      <td>67</td>\n",
       "      <td>0</td>\n",
       "      <td>33</td>\n",
       "      <td>33</td>\n",
       "      <td>33</td>\n",
       "      <td>0</td>\n",
       "      <td>1</td>\n",
       "    </tr>\n",
       "    <tr>\n",
       "      <td>2</td>\n",
       "      <td>2997</td>\n",
       "      <td>Female</td>\n",
       "      <td>University</td>\n",
       "      <td>Single</td>\n",
       "      <td>34</td>\n",
       "      <td>0</td>\n",
       "      <td>0</td>\n",
       "      <td>0</td>\n",
       "      <td>0</td>\n",
       "      <td>0</td>\n",
       "      <td>0</td>\n",
       "      <td>518</td>\n",
       "      <td>498</td>\n",
       "      <td>477</td>\n",
       "      <td>452</td>\n",
       "      <td>467</td>\n",
       "      <td>974</td>\n",
       "      <td>167</td>\n",
       "      <td>33</td>\n",
       "      <td>33</td>\n",
       "      <td>33</td>\n",
       "      <td>50</td>\n",
       "      <td>51</td>\n",
       "      <td>0</td>\n",
       "    </tr>\n",
       "    <tr>\n",
       "      <td>3</td>\n",
       "      <td>1665</td>\n",
       "      <td>Female</td>\n",
       "      <td>University</td>\n",
       "      <td>Married</td>\n",
       "      <td>37</td>\n",
       "      <td>0</td>\n",
       "      <td>0</td>\n",
       "      <td>0</td>\n",
       "      <td>0</td>\n",
       "      <td>0</td>\n",
       "      <td>0</td>\n",
       "      <td>984</td>\n",
       "      <td>964</td>\n",
       "      <td>943</td>\n",
       "      <td>1641</td>\n",
       "      <td>1606</td>\n",
       "      <td>1565</td>\n",
       "      <td>33</td>\n",
       "      <td>36</td>\n",
       "      <td>37</td>\n",
       "      <td>40</td>\n",
       "      <td>67</td>\n",
       "      <td>67</td>\n",
       "      <td>0</td>\n",
       "    </tr>\n",
       "    <tr>\n",
       "      <td>4</td>\n",
       "      <td>1665</td>\n",
       "      <td>Male</td>\n",
       "      <td>University</td>\n",
       "      <td>Married</td>\n",
       "      <td>57</td>\n",
       "      <td>0</td>\n",
       "      <td>0</td>\n",
       "      <td>0</td>\n",
       "      <td>-1</td>\n",
       "      <td>0</td>\n",
       "      <td>-1</td>\n",
       "      <td>637</td>\n",
       "      <td>638</td>\n",
       "      <td>697</td>\n",
       "      <td>1193</td>\n",
       "      <td>189</td>\n",
       "      <td>287</td>\n",
       "      <td>23</td>\n",
       "      <td>23</td>\n",
       "      <td>300</td>\n",
       "      <td>333</td>\n",
       "      <td>1222</td>\n",
       "      <td>67</td>\n",
       "      <td>0</td>\n",
       "    </tr>\n",
       "  </tbody>\n",
       "</table>\n",
       "</div>"
      ],
      "text/plain": [
       "   LIMIT_BAL     SEX   EDUCATION MARRIAGE  AGE  PAY_APRIL  PAY_MAY  PAY_JUNE  \\\n",
       "0        666  Female  University  Married   24         -2       -2        -1   \n",
       "1       3996  Female  University   Single   26          2        0         0   \n",
       "2       2997  Female  University   Single   34          0        0         0   \n",
       "3       1665  Female  University  Married   37          0        0         0   \n",
       "4       1665    Male  University  Married   57          0        0         0   \n",
       "\n",
       "   PAY_JULY  PAY_AUG  PAY_SEP  BILL_AMTAPRIL  BILL_AMTMAY  BILL_AMTJUNE  \\\n",
       "0        -1        2        2              0            0             0   \n",
       "1         0        2       -1            109          115           109   \n",
       "2         0        0        0            518          498           477   \n",
       "3         0        0        0            984          964           943   \n",
       "4        -1        0       -1            637          638           697   \n",
       "\n",
       "   BILL_AMTJULY  BILL_AMTAUG  BILL_AMTSEP  PAY_AMTAPRIL  PAY_AMTMAY  \\\n",
       "0            23          103          130             0           0   \n",
       "1            89           57           89            67           0   \n",
       "2           452          467          974           167          33   \n",
       "3          1641         1606         1565            33          36   \n",
       "4          1193          189          287            23          23   \n",
       "\n",
       "   PAY_AMTJUNE  PAY_AMTJULY  PAY_AMTAUG  PAY_AMTSEP  ISDEFAULT  \n",
       "0            0            0          23           0          1  \n",
       "1           33           33          33           0          1  \n",
       "2           33           33          50          51          0  \n",
       "3           37           40          67          67          0  \n",
       "4          300          333        1222          67          0  "
      ]
     },
     "execution_count": 24,
     "metadata": {},
     "output_type": "execute_result"
    }
   ],
   "source": [
    "#Renombrar la columna defult\n",
    "\n",
    "credit2 = credit.rename(columns={'DEFAULT_PAY_NEXTM':'ISDEFAULT'})\n",
    "\n",
    "credit2.head()"
   ]
  },
  {
   "cell_type": "code",
   "execution_count": 25,
   "metadata": {},
   "outputs": [
    {
     "data": {
      "text/plain": [
       "<seaborn.axisgrid.FacetGrid at 0x2594ee2f0c8>"
      ]
     },
     "execution_count": 25,
     "metadata": {},
     "output_type": "execute_result"
    },
    {
     "data": {
      "image/png": "[encoded data removed]",
      "text/plain": [
       "<Figure size 540x360 with 1 Axes>"
      ]
     },
     "metadata": {
      "needs_background": "light"
     },
     "output_type": "display_data"
    }
   ],
   "source": [
    "\n",
    "\n",
    "# Instead of a group by, use seaborn to plot the count of marital status \n",
    "fg = sns.catplot('MARRIAGE', data=credit2, kind='count', aspect=1.5)\n",
    "fg.set_xlabels('Class')"
   ]
  },
  {
   "cell_type": "code",
   "execution_count": 26,
   "metadata": {},
   "outputs": [
    {
     "data": {
      "text/plain": [
       "SEX\n",
       "Female    18112\n",
       "Male      11888\n",
       "Name: SEX, dtype: int64"
      ]
     },
     "execution_count": 26,
     "metadata": {},
     "output_type": "execute_result"
    }
   ],
   "source": [
    "credit2.groupby('SEX')['SEX'].count()"
   ]
  },
  {
   "cell_type": "code",
   "execution_count": 27,
   "metadata": {},
   "outputs": [
    {
     "data": {
      "text/plain": [
       "<seaborn.axisgrid.FacetGrid at 0x2594ee7dac8>"
      ]
     },
     "execution_count": 27,
     "metadata": {},
     "output_type": "execute_result"
    },
    {
     "data": {
      "image/png": "[encoded data removed]",
      "text/plain": [
       "<Figure size 540x360 with 1 Axes>"
      ]
     },
     "metadata": {
      "needs_background": "light"
     },
     "output_type": "display_data"
    }
   ],
   "source": [
    "# Instead of a group by, use seaborn to plot the number of males and females\n",
    "sns.catplot('SEX', data=credit2, kind='count', aspect=1.5)"
   ]
  },
  {
   "cell_type": "markdown",
   "metadata": {},
   "source": [
    "Se puede preciar .5 mas mujeres que hombre en el set de datos."
   ]
  },
  {
   "cell_type": "code",
   "execution_count": 28,
   "metadata": {},
   "outputs": [
    {
     "data": {
      "text/plain": [
       "SEX     ISDEFAULT\n",
       "Female  0            14349\n",
       "        1             3763\n",
       "Male    0             9015\n",
       "        1             2873\n",
       "Name: SEX, dtype: int64"
      ]
     },
     "execution_count": 28,
     "metadata": {},
     "output_type": "execute_result"
    }
   ],
   "source": [
    "# Number of men and women in each of the passenger class\n",
    "credit2.groupby(['SEX', 'ISDEFAULT'])['SEX'].count()"
   ]
  },
  {
   "cell_type": "code",
   "execution_count": 33,
   "metadata": {},
   "outputs": [
    {
     "data": {
      "text/plain": [
       "<seaborn.axisgrid.FacetGrid at 0x2594f2fd888>"
      ]
     },
     "execution_count": 33,
     "metadata": {},
     "output_type": "execute_result"
    },
    {
     "data": {
      "image/png": "[encoded data removed]",
      "text/plain": [
       "<Figure size 702.625x360 with 1 Axes>"
      ]
     },
     "metadata": {
      "needs_background": "light"
     },
     "output_type": "display_data"
    }
   ],
   "source": [
    "\n",
    "# Again use saeborn to group by Sex and credit status on default\n",
    "g = sns.catplot('ISDEFAULT', data=credit2, hue='SEX', kind='count', aspect=1.75)\n",
    "g.set_xlabels('IS DEFAULT')"
   ]
  },
  {
   "cell_type": "markdown",
   "metadata": {},
   "source": [
    "Observando la grafica de arriba se puede contemplar que las mujeres rebazan por un minimo caer en default mas que los hombres, sin embargo superan por mucho los creditos que no caen en default. Se puede mencionar que la muestra no esta homogenea con la cantidad de muestreo de hombres y mujeres."
   ]
  },
  {
   "cell_type": "code",
   "execution_count": 43,
   "metadata": {},
   "outputs": [
    {
     "data": {
      "text/plain": [
       "(Index(['LIMIT_BAL', 'SEX', 'EDUCATION', 'MARRIAGE', 'AGE', 'PAY_APRIL',\n",
       "        'PAY_MAY', 'PAY_JUNE', 'PAY_JULY', 'PAY_AUG', 'PAY_SEP',\n",
       "        'BILL_AMTAPRIL', 'BILL_AMTMAY', 'BILL_AMTJUNE', 'BILL_AMTJULY',\n",
       "        'BILL_AMTAUG', 'BILL_AMTSEP', 'PAY_AMTAPRIL', 'PAY_AMTMAY',\n",
       "        'PAY_AMTJUNE', 'PAY_AMTJULY', 'PAY_AMTAUG', 'PAY_AMTSEP', 'ISDEFAULT'],\n",
       "       dtype='object'), RangeIndex(start=0, stop=30000, step=1))"
      ]
     },
     "execution_count": 43,
     "metadata": {},
     "output_type": "execute_result"
    }
   ],
   "source": [
    "credit2.columns, credit2.index"
   ]
  },
  {
   "cell_type": "code",
   "execution_count": 46,
   "metadata": {},
   "outputs": [
    {
     "data": {
      "text/html": [
       "<div>\n",
       "<style scoped>\n",
       "    .dataframe tbody tr th:only-of-type {\n",
       "        vertical-align: middle;\n",
       "    }\n",
       "\n",
       "    .dataframe tbody tr th {\n",
       "        vertical-align: top;\n",
       "    }\n",
       "\n",
       "    .dataframe thead th {\n",
       "        text-align: right;\n",
       "    }\n",
       "</style>\n",
       "<table border=\"1\" class=\"dataframe\">\n",
       "  <thead>\n",
       "    <tr style=\"text-align: right;\">\n",
       "      <th></th>\n",
       "      <th>LIMIT_BAL</th>\n",
       "      <th>SEX</th>\n",
       "      <th>EDUCATION</th>\n",
       "      <th>MARRIAGE</th>\n",
       "      <th>AGE</th>\n",
       "      <th>PAY_APRIL</th>\n",
       "      <th>PAY_MAY</th>\n",
       "      <th>PAY_JUNE</th>\n",
       "      <th>PAY_JULY</th>\n",
       "      <th>PAY_AUG</th>\n",
       "      <th>PAY_SEP</th>\n",
       "      <th>BILL_AMTAPRIL</th>\n",
       "      <th>BILL_AMTMAY</th>\n",
       "      <th>BILL_AMTJUNE</th>\n",
       "      <th>BILL_AMTJULY</th>\n",
       "      <th>BILL_AMTAUG</th>\n",
       "      <th>BILL_AMTSEP</th>\n",
       "      <th>PAY_AMTAPRIL</th>\n",
       "      <th>PAY_AMTMAY</th>\n",
       "      <th>PAY_AMTJUNE</th>\n",
       "      <th>PAY_AMTJULY</th>\n",
       "      <th>PAY_AMTAUG</th>\n",
       "      <th>PAY_AMTSEP</th>\n",
       "      <th>ISDEFAULT</th>\n",
       "    </tr>\n",
       "  </thead>\n",
       "  <tbody>\n",
       "    <tr>\n",
       "      <td>0</td>\n",
       "      <td>666</td>\n",
       "      <td>Female</td>\n",
       "      <td>University</td>\n",
       "      <td>Married</td>\n",
       "      <td>24</td>\n",
       "      <td>-2</td>\n",
       "      <td>-2</td>\n",
       "      <td>-1</td>\n",
       "      <td>-1</td>\n",
       "      <td>2</td>\n",
       "      <td>2</td>\n",
       "      <td>0</td>\n",
       "      <td>0</td>\n",
       "      <td>0</td>\n",
       "      <td>23</td>\n",
       "      <td>103</td>\n",
       "      <td>130</td>\n",
       "      <td>0</td>\n",
       "      <td>0</td>\n",
       "      <td>0</td>\n",
       "      <td>0</td>\n",
       "      <td>23</td>\n",
       "      <td>0</td>\n",
       "      <td>1</td>\n",
       "    </tr>\n",
       "    <tr>\n",
       "      <td>1</td>\n",
       "      <td>3996</td>\n",
       "      <td>Female</td>\n",
       "      <td>University</td>\n",
       "      <td>Single</td>\n",
       "      <td>26</td>\n",
       "      <td>2</td>\n",
       "      <td>0</td>\n",
       "      <td>0</td>\n",
       "      <td>0</td>\n",
       "      <td>2</td>\n",
       "      <td>-1</td>\n",
       "      <td>109</td>\n",
       "      <td>115</td>\n",
       "      <td>109</td>\n",
       "      <td>89</td>\n",
       "      <td>57</td>\n",
       "      <td>89</td>\n",
       "      <td>67</td>\n",
       "      <td>0</td>\n",
       "      <td>33</td>\n",
       "      <td>33</td>\n",
       "      <td>33</td>\n",
       "      <td>0</td>\n",
       "      <td>1</td>\n",
       "    </tr>\n",
       "    <tr>\n",
       "      <td>13</td>\n",
       "      <td>2331</td>\n",
       "      <td>Male</td>\n",
       "      <td>University</td>\n",
       "      <td>Single</td>\n",
       "      <td>30</td>\n",
       "      <td>2</td>\n",
       "      <td>0</td>\n",
       "      <td>0</td>\n",
       "      <td>2</td>\n",
       "      <td>2</td>\n",
       "      <td>1</td>\n",
       "      <td>1229</td>\n",
       "      <td>1203</td>\n",
       "      <td>2224</td>\n",
       "      <td>2188</td>\n",
       "      <td>2243</td>\n",
       "      <td>2191</td>\n",
       "      <td>0</td>\n",
       "      <td>50</td>\n",
       "      <td>100</td>\n",
       "      <td>100</td>\n",
       "      <td>0</td>\n",
       "      <td>107</td>\n",
       "      <td>1</td>\n",
       "    </tr>\n",
       "    <tr>\n",
       "      <td>16</td>\n",
       "      <td>666</td>\n",
       "      <td>Male</td>\n",
       "      <td>GradSchool</td>\n",
       "      <td>Single</td>\n",
       "      <td>24</td>\n",
       "      <td>2</td>\n",
       "      <td>2</td>\n",
       "      <td>2</td>\n",
       "      <td>2</td>\n",
       "      <td>0</td>\n",
       "      <td>0</td>\n",
       "      <td>636</td>\n",
       "      <td>596</td>\n",
       "      <td>611</td>\n",
       "      <td>580</td>\n",
       "      <td>600</td>\n",
       "      <td>512</td>\n",
       "      <td>0</td>\n",
       "      <td>55</td>\n",
       "      <td>0</td>\n",
       "      <td>50</td>\n",
       "      <td>0</td>\n",
       "      <td>107</td>\n",
       "      <td>1</td>\n",
       "    </tr>\n",
       "    <tr>\n",
       "      <td>21</td>\n",
       "      <td>3996</td>\n",
       "      <td>Female</td>\n",
       "      <td>University</td>\n",
       "      <td>Married</td>\n",
       "      <td>39</td>\n",
       "      <td>-1</td>\n",
       "      <td>-1</td>\n",
       "      <td>-1</td>\n",
       "      <td>-1</td>\n",
       "      <td>-1</td>\n",
       "      <td>-1</td>\n",
       "      <td>11</td>\n",
       "      <td>21</td>\n",
       "      <td>0</td>\n",
       "      <td>11</td>\n",
       "      <td>11</td>\n",
       "      <td>11</td>\n",
       "      <td>0</td>\n",
       "      <td>11</td>\n",
       "      <td>21</td>\n",
       "      <td>0</td>\n",
       "      <td>11</td>\n",
       "      <td>11</td>\n",
       "      <td>1</td>\n",
       "    </tr>\n",
       "  </tbody>\n",
       "</table>\n",
       "</div>"
      ],
      "text/plain": [
       "    LIMIT_BAL     SEX   EDUCATION MARRIAGE  AGE  PAY_APRIL  PAY_MAY  PAY_JUNE  \\\n",
       "0         666  Female  University  Married   24         -2       -2        -1   \n",
       "1        3996  Female  University   Single   26          2        0         0   \n",
       "13       2331    Male  University   Single   30          2        0         0   \n",
       "16        666    Male  GradSchool   Single   24          2        2         2   \n",
       "21       3996  Female  University  Married   39         -1       -1        -1   \n",
       "\n",
       "    PAY_JULY  PAY_AUG  PAY_SEP  BILL_AMTAPRIL  BILL_AMTMAY  BILL_AMTJUNE  \\\n",
       "0         -1        2        2              0            0             0   \n",
       "1          0        2       -1            109          115           109   \n",
       "13         2        2        1           1229         1203          2224   \n",
       "16         2        0        0            636          596           611   \n",
       "21        -1       -1       -1             11           21             0   \n",
       "\n",
       "    BILL_AMTJULY  BILL_AMTAUG  BILL_AMTSEP  PAY_AMTAPRIL  PAY_AMTMAY  \\\n",
       "0             23          103          130             0           0   \n",
       "1             89           57           89            67           0   \n",
       "13          2188         2243         2191             0          50   \n",
       "16           580          600          512             0          55   \n",
       "21            11           11           11             0          11   \n",
       "\n",
       "    PAY_AMTJUNE  PAY_AMTJULY  PAY_AMTAUG  PAY_AMTSEP  ISDEFAULT  \n",
       "0             0            0          23           0          1  \n",
       "1            33           33          33           0          1  \n",
       "13          100          100           0         107          1  \n",
       "16            0           50           0         107          1  \n",
       "21           21            0          11          11          1  "
      ]
     },
     "execution_count": 46,
     "metadata": {},
     "output_type": "execute_result"
    }
   ],
   "source": [
    "#Se crea na tabla con las personas default\n",
    "default = credit2[credit2['ISDEFAULT']==1]\n",
    "default.head()"
   ]
  },
  {
   "cell_type": "code",
   "execution_count": 47,
   "metadata": {},
   "outputs": [
    {
     "data": {
      "text/html": [
       "<div>\n",
       "<style scoped>\n",
       "    .dataframe tbody tr th:only-of-type {\n",
       "        vertical-align: middle;\n",
       "    }\n",
       "\n",
       "    .dataframe tbody tr th {\n",
       "        vertical-align: top;\n",
       "    }\n",
       "\n",
       "    .dataframe thead th {\n",
       "        text-align: right;\n",
       "    }\n",
       "</style>\n",
       "<table border=\"1\" class=\"dataframe\">\n",
       "  <thead>\n",
       "    <tr style=\"text-align: right;\">\n",
       "      <th></th>\n",
       "      <th>LIMIT_BAL</th>\n",
       "      <th>SEX</th>\n",
       "      <th>EDUCATION</th>\n",
       "      <th>MARRIAGE</th>\n",
       "      <th>AGE</th>\n",
       "      <th>PAY_APRIL</th>\n",
       "      <th>PAY_MAY</th>\n",
       "      <th>PAY_JUNE</th>\n",
       "      <th>PAY_JULY</th>\n",
       "      <th>PAY_AUG</th>\n",
       "      <th>PAY_SEP</th>\n",
       "      <th>BILL_AMTAPRIL</th>\n",
       "      <th>BILL_AMTMAY</th>\n",
       "      <th>BILL_AMTJUNE</th>\n",
       "      <th>BILL_AMTJULY</th>\n",
       "      <th>BILL_AMTAUG</th>\n",
       "      <th>BILL_AMTSEP</th>\n",
       "      <th>PAY_AMTAPRIL</th>\n",
       "      <th>PAY_AMTMAY</th>\n",
       "      <th>PAY_AMTJUNE</th>\n",
       "      <th>PAY_AMTJULY</th>\n",
       "      <th>PAY_AMTAUG</th>\n",
       "      <th>PAY_AMTSEP</th>\n",
       "      <th>ISDEFAULT</th>\n",
       "    </tr>\n",
       "  </thead>\n",
       "  <tbody>\n",
       "    <tr>\n",
       "      <td>2</td>\n",
       "      <td>2997</td>\n",
       "      <td>Female</td>\n",
       "      <td>University</td>\n",
       "      <td>Single</td>\n",
       "      <td>34</td>\n",
       "      <td>0</td>\n",
       "      <td>0</td>\n",
       "      <td>0</td>\n",
       "      <td>0</td>\n",
       "      <td>0</td>\n",
       "      <td>0</td>\n",
       "      <td>518</td>\n",
       "      <td>498</td>\n",
       "      <td>477</td>\n",
       "      <td>452</td>\n",
       "      <td>467</td>\n",
       "      <td>974</td>\n",
       "      <td>167</td>\n",
       "      <td>33</td>\n",
       "      <td>33</td>\n",
       "      <td>33</td>\n",
       "      <td>50</td>\n",
       "      <td>51</td>\n",
       "      <td>0</td>\n",
       "    </tr>\n",
       "    <tr>\n",
       "      <td>3</td>\n",
       "      <td>1665</td>\n",
       "      <td>Female</td>\n",
       "      <td>University</td>\n",
       "      <td>Married</td>\n",
       "      <td>37</td>\n",
       "      <td>0</td>\n",
       "      <td>0</td>\n",
       "      <td>0</td>\n",
       "      <td>0</td>\n",
       "      <td>0</td>\n",
       "      <td>0</td>\n",
       "      <td>984</td>\n",
       "      <td>964</td>\n",
       "      <td>943</td>\n",
       "      <td>1641</td>\n",
       "      <td>1606</td>\n",
       "      <td>1565</td>\n",
       "      <td>33</td>\n",
       "      <td>36</td>\n",
       "      <td>37</td>\n",
       "      <td>40</td>\n",
       "      <td>67</td>\n",
       "      <td>67</td>\n",
       "      <td>0</td>\n",
       "    </tr>\n",
       "    <tr>\n",
       "      <td>4</td>\n",
       "      <td>1665</td>\n",
       "      <td>Male</td>\n",
       "      <td>University</td>\n",
       "      <td>Married</td>\n",
       "      <td>57</td>\n",
       "      <td>0</td>\n",
       "      <td>0</td>\n",
       "      <td>0</td>\n",
       "      <td>-1</td>\n",
       "      <td>0</td>\n",
       "      <td>-1</td>\n",
       "      <td>637</td>\n",
       "      <td>638</td>\n",
       "      <td>697</td>\n",
       "      <td>1193</td>\n",
       "      <td>189</td>\n",
       "      <td>287</td>\n",
       "      <td>23</td>\n",
       "      <td>23</td>\n",
       "      <td>300</td>\n",
       "      <td>333</td>\n",
       "      <td>1222</td>\n",
       "      <td>67</td>\n",
       "      <td>0</td>\n",
       "    </tr>\n",
       "    <tr>\n",
       "      <td>5</td>\n",
       "      <td>1665</td>\n",
       "      <td>Male</td>\n",
       "      <td>GradSchool</td>\n",
       "      <td>Single</td>\n",
       "      <td>37</td>\n",
       "      <td>0</td>\n",
       "      <td>0</td>\n",
       "      <td>0</td>\n",
       "      <td>0</td>\n",
       "      <td>0</td>\n",
       "      <td>0</td>\n",
       "      <td>667</td>\n",
       "      <td>653</td>\n",
       "      <td>646</td>\n",
       "      <td>1918</td>\n",
       "      <td>1900</td>\n",
       "      <td>2145</td>\n",
       "      <td>27</td>\n",
       "      <td>33</td>\n",
       "      <td>33</td>\n",
       "      <td>22</td>\n",
       "      <td>60</td>\n",
       "      <td>83</td>\n",
       "      <td>0</td>\n",
       "    </tr>\n",
       "    <tr>\n",
       "      <td>6</td>\n",
       "      <td>16651</td>\n",
       "      <td>Male</td>\n",
       "      <td>GradSchool</td>\n",
       "      <td>Single</td>\n",
       "      <td>29</td>\n",
       "      <td>0</td>\n",
       "      <td>0</td>\n",
       "      <td>0</td>\n",
       "      <td>0</td>\n",
       "      <td>0</td>\n",
       "      <td>0</td>\n",
       "      <td>15783</td>\n",
       "      <td>16085</td>\n",
       "      <td>18071</td>\n",
       "      <td>14819</td>\n",
       "      <td>13721</td>\n",
       "      <td>12254</td>\n",
       "      <td>459</td>\n",
       "      <td>458</td>\n",
       "      <td>674</td>\n",
       "      <td>1265</td>\n",
       "      <td>1332</td>\n",
       "      <td>1832</td>\n",
       "      <td>0</td>\n",
       "    </tr>\n",
       "  </tbody>\n",
       "</table>\n",
       "</div>"
      ],
      "text/plain": [
       "   LIMIT_BAL     SEX   EDUCATION MARRIAGE  AGE  PAY_APRIL  PAY_MAY  PAY_JUNE  \\\n",
       "2       2997  Female  University   Single   34          0        0         0   \n",
       "3       1665  Female  University  Married   37          0        0         0   \n",
       "4       1665    Male  University  Married   57          0        0         0   \n",
       "5       1665    Male  GradSchool   Single   37          0        0         0   \n",
       "6      16651    Male  GradSchool   Single   29          0        0         0   \n",
       "\n",
       "   PAY_JULY  PAY_AUG  PAY_SEP  BILL_AMTAPRIL  BILL_AMTMAY  BILL_AMTJUNE  \\\n",
       "2         0        0        0            518          498           477   \n",
       "3         0        0        0            984          964           943   \n",
       "4        -1        0       -1            637          638           697   \n",
       "5         0        0        0            667          653           646   \n",
       "6         0        0        0          15783        16085         18071   \n",
       "\n",
       "   BILL_AMTJULY  BILL_AMTAUG  BILL_AMTSEP  PAY_AMTAPRIL  PAY_AMTMAY  \\\n",
       "2           452          467          974           167          33   \n",
       "3          1641         1606         1565            33          36   \n",
       "4          1193          189          287            23          23   \n",
       "5          1918         1900         2145            27          33   \n",
       "6         14819        13721        12254           459         458   \n",
       "\n",
       "   PAY_AMTJUNE  PAY_AMTJULY  PAY_AMTAUG  PAY_AMTSEP  ISDEFAULT  \n",
       "2           33           33          50          51          0  \n",
       "3           37           40          67          67          0  \n",
       "4          300          333        1222          67          0  \n",
       "5           33           22          60          83          0  \n",
       "6          674         1265        1332        1832          0  "
      ]
     },
     "execution_count": 47,
     "metadata": {},
     "output_type": "execute_result"
    }
   ],
   "source": [
    "#Se crea na tabla con las personas que no estan default\n",
    "not_default = credit2[credit2['ISDEFAULT']==0]\n",
    "not_default.head()"
   ]
  },
  {
   "cell_type": "code",
   "execution_count": 49,
   "metadata": {},
   "outputs": [
    {
     "data": {
      "text/plain": [
       "23364"
      ]
     },
     "execution_count": 49,
     "metadata": {},
     "output_type": "execute_result"
    }
   ],
   "source": [
    "# Total de personas que no son default\n",
    "len(not_default)"
   ]
  },
  {
   "cell_type": "code",
   "execution_count": 50,
   "metadata": {},
   "outputs": [
    {
     "data": {
      "text/plain": [
       "6636"
      ]
     },
     "execution_count": 50,
     "metadata": {},
     "output_type": "execute_result"
    }
   ],
   "source": [
    "# Total de personas que son default\n",
    "len(default)"
   ]
  },
  {
   "cell_type": "code",
   "execution_count": 67,
   "metadata": {},
   "outputs": [
    {
     "name": "stdout",
     "output_type": "stream",
     "text": [
      "Promedio de edad de las personas en default 35.72573839662447 y mediana  34.0\n"
     ]
    }
   ],
   "source": [
    "print('Promedio de edad de las personas en default',default.AGE.mean() ,\n",
    "     'y mediana ', default.AGE.median())\n",
    "      \n",
    "\n"
   ]
  },
  {
   "cell_type": "code",
   "execution_count": 69,
   "metadata": {},
   "outputs": [
    {
     "data": {
      "text/plain": [
       "count    6636.000000\n",
       "mean       35.725738\n",
       "std         9.693438\n",
       "min        21.000000\n",
       "25%        28.000000\n",
       "50%        34.000000\n",
       "75%        42.000000\n",
       "max        75.000000\n",
       "Name: AGE, dtype: float64"
      ]
     },
     "execution_count": 69,
     "metadata": {},
     "output_type": "execute_result"
    }
   ],
   "source": [
    "default.AGE.describe()"
   ]
  },
  {
   "cell_type": "code",
   "execution_count": 73,
   "metadata": {},
   "outputs": [
    {
     "data": {
      "text/plain": [
       "Text(0.5, 1.0, \"Distribucion de las edades en default' Eda\")"
      ]
     },
     "execution_count": 73,
     "metadata": {},
     "output_type": "execute_result"
    },
    {
     "data": {
      "image/png": "[encoded data removed]",
      "text/plain": [
       "<Figure size 432x288 with 1 Axes>"
      ]
     },
     "metadata": {
      "needs_background": "light"
     },
     "output_type": "display_data"
    }
   ],
   "source": [
    "# Drop missing values for the records in which age passenger is missing\n",
    "age = default['AGE'].dropna()\n",
    "\n",
    "# Distribution of age, with an overlay of a density plot\n",
    "age_dist = sns.distplot(age)\n",
    "age_dist.set_title(\"Distribucion de las edades en default' Eda\")"
   ]
  },
  {
   "cell_type": "code",
   "execution_count": 75,
   "metadata": {},
   "outputs": [
    {
     "data": {
      "text/plain": [
       "<matplotlib.axes._subplots.AxesSubplot at 0x2594ff56948>"
      ]
     },
     "execution_count": 75,
     "metadata": {},
     "output_type": "execute_result"
    },
    {
     "data": {
      "image/png": "[encoded data removed]",
      "text/plain": [
       "<Figure size 432x288 with 1 Axes>"
      ]
     },
     "metadata": {
      "needs_background": "light"
     },
     "output_type": "display_data"
    }
   ],
   "source": [
    "# Another way to plot a histogram of ages is shown below\n",
    "default['AGE'].hist(bins=50)"
   ]
  },
  {
   "cell_type": "code",
   "execution_count": 78,
   "metadata": {},
   "outputs": [
    {
     "data": {
      "text/plain": [
       "<matplotlib.axes._subplots.AxesSubplot at 0x259536cb088>"
      ]
     },
     "execution_count": 78,
     "metadata": {},
     "output_type": "execute_result"
    },
    {
     "data": {
      "image/png": "[encoded data removed]",
      "text/plain": [
       "<Figure size 432x288 with 1 Axes>"
      ]
     },
     "metadata": {
      "needs_background": "light"
     },
     "output_type": "display_data"
    }
   ],
   "source": [
    "# vizalizacion por status marital de las personas en default\n",
    "default['MARRIAGE'].hist(bins=4)"
   ]
  },
  {
   "cell_type": "code",
   "execution_count": 83,
   "metadata": {},
   "outputs": [
    {
     "data": {
      "text/plain": [
       "Single      3341\n",
       "Married     3206\n",
       "Divorced      84\n",
       "Other          5\n",
       "Name: MARRIAGE, dtype: int64"
      ]
     },
     "execution_count": 83,
     "metadata": {},
     "output_type": "execute_result"
    }
   ],
   "source": [
    "# Count number of men, women and children\n",
    "default['MARRIAGE'].value_counts()"
   ]
  },
  {
   "cell_type": "code",
   "execution_count": 85,
   "metadata": {},
   "outputs": [
    {
     "data": {
      "text/plain": [
       "1665     885\n",
       "666      698\n",
       "999      568\n",
       "2664     363\n",
       "3330     272\n",
       "        ... \n",
       "23977      1\n",
       "19648      1\n",
       "17650      1\n",
       "19315      1\n",
       "20647      1\n",
       "Name: LIMIT_BAL, Length: 65, dtype: int64"
      ]
     },
     "execution_count": 85,
     "metadata": {},
     "output_type": "execute_result"
    }
   ],
   "source": [
    "# Count number of men, women and children\n",
    "default['LIMIT_BAL'].value_counts()"
   ]
  },
  {
   "cell_type": "code",
   "execution_count": 87,
   "metadata": {},
   "outputs": [
    {
     "data": {
      "text/plain": [
       "<matplotlib.axes._subplots.AxesSubplot at 0x259538e93c8>"
      ]
     },
     "execution_count": 87,
     "metadata": {},
     "output_type": "execute_result"
    },
    {
     "data": {
      "image/png": "[encoded data removed]",
      "text/plain": [
       "<Figure size 432x288 with 1 Axes>"
      ]
     },
     "metadata": {
      "needs_background": "light"
     },
     "output_type": "display_data"
    }
   ],
   "source": [
    "# Vizualizacion de las personas en default por el balance del credito\n",
    "default['LIMIT_BAL'].hist(bins=50)"
   ]
  }
 ],
 "metadata": {
  "kernelspec": {
   "display_name": "Python 3",
   "language": "python",
   "name": "python3"
  },
  "language_info": {
   "codemirror_mode": {
    "name": "ipython",
    "version": 3
   },
   "file_extension": ".py",
   "mimetype": "text/x-python",
   "name": "python",
   "nbconvert_exporter": "python",
   "pygments_lexer": "ipython3",
   "version": "3.7.4"
  }
 },
 "nbformat": 4,
 "nbformat_minor": 2
}
